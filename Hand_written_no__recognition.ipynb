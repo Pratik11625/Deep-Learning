{
  "cells": [
    {
      "cell_type": "code",
      "source": [],
      "metadata": {
        "id": "OuFBtfK3PDRk"
      },
      "execution_count": null,
      "outputs": []
    },
    {
      "cell_type": "markdown",
      "source": [
        "Data collection"
      ],
      "metadata": {
        "id": "WY8OFbAMPEZq"
      }
    },
    {
      "cell_type": "code",
      "source": [
        "from keras.datasets import mnist"
      ],
      "metadata": {
        "id": "olLpyDK4PGAD"
      },
      "execution_count": null,
      "outputs": []
    },
    {
      "cell_type": "code",
      "source": [
        "(x_train,y_train),(x_test,y_test)=mnist.load_data()"
      ],
      "metadata": {
        "id": "-pK2kutQPJ3r",
        "colab": {
          "base_uri": "https://localhost:8080/"
        },
        "outputId": "d046298d-df95-4f88-9742-3b8953950ef5"
      },
      "execution_count": null,
      "outputs": [
        {
          "output_type": "stream",
          "name": "stdout",
          "text": [
            "Downloading data from https://storage.googleapis.com/tensorflow/tf-keras-datasets/mnist.npz\n",
            "11490434/11490434 [==============================] - 0s 0us/step\n"
          ]
        }
      ]
    },
    {
      "cell_type": "code",
      "source": [
        "x_train"
      ],
      "metadata": {
        "colab": {
          "base_uri": "https://localhost:8080/"
        },
        "id": "S0xMDRiqPQzy",
        "outputId": "d1886457-e63c-452d-c415-6b2ae36d037a"
      },
      "execution_count": null,
      "outputs": [
        {
          "output_type": "execute_result",
          "data": {
            "text/plain": [
              "array([[[0, 0, 0, ..., 0, 0, 0],\n",
              "        [0, 0, 0, ..., 0, 0, 0],\n",
              "        [0, 0, 0, ..., 0, 0, 0],\n",
              "        ...,\n",
              "        [0, 0, 0, ..., 0, 0, 0],\n",
              "        [0, 0, 0, ..., 0, 0, 0],\n",
              "        [0, 0, 0, ..., 0, 0, 0]],\n",
              "\n",
              "       [[0, 0, 0, ..., 0, 0, 0],\n",
              "        [0, 0, 0, ..., 0, 0, 0],\n",
              "        [0, 0, 0, ..., 0, 0, 0],\n",
              "        ...,\n",
              "        [0, 0, 0, ..., 0, 0, 0],\n",
              "        [0, 0, 0, ..., 0, 0, 0],\n",
              "        [0, 0, 0, ..., 0, 0, 0]],\n",
              "\n",
              "       [[0, 0, 0, ..., 0, 0, 0],\n",
              "        [0, 0, 0, ..., 0, 0, 0],\n",
              "        [0, 0, 0, ..., 0, 0, 0],\n",
              "        ...,\n",
              "        [0, 0, 0, ..., 0, 0, 0],\n",
              "        [0, 0, 0, ..., 0, 0, 0],\n",
              "        [0, 0, 0, ..., 0, 0, 0]],\n",
              "\n",
              "       ...,\n",
              "\n",
              "       [[0, 0, 0, ..., 0, 0, 0],\n",
              "        [0, 0, 0, ..., 0, 0, 0],\n",
              "        [0, 0, 0, ..., 0, 0, 0],\n",
              "        ...,\n",
              "        [0, 0, 0, ..., 0, 0, 0],\n",
              "        [0, 0, 0, ..., 0, 0, 0],\n",
              "        [0, 0, 0, ..., 0, 0, 0]],\n",
              "\n",
              "       [[0, 0, 0, ..., 0, 0, 0],\n",
              "        [0, 0, 0, ..., 0, 0, 0],\n",
              "        [0, 0, 0, ..., 0, 0, 0],\n",
              "        ...,\n",
              "        [0, 0, 0, ..., 0, 0, 0],\n",
              "        [0, 0, 0, ..., 0, 0, 0],\n",
              "        [0, 0, 0, ..., 0, 0, 0]],\n",
              "\n",
              "       [[0, 0, 0, ..., 0, 0, 0],\n",
              "        [0, 0, 0, ..., 0, 0, 0],\n",
              "        [0, 0, 0, ..., 0, 0, 0],\n",
              "        ...,\n",
              "        [0, 0, 0, ..., 0, 0, 0],\n",
              "        [0, 0, 0, ..., 0, 0, 0],\n",
              "        [0, 0, 0, ..., 0, 0, 0]]], dtype=uint8)"
            ]
          },
          "metadata": {},
          "execution_count": 3
        }
      ]
    },
    {
      "cell_type": "code",
      "source": [
        "y_train"
      ],
      "metadata": {
        "colab": {
          "base_uri": "https://localhost:8080/"
        },
        "id": "WbHy6-1vPUat",
        "outputId": "788b7a58-4b3b-4d24-f777-a897bc1fed26"
      },
      "execution_count": null,
      "outputs": [
        {
          "output_type": "execute_result",
          "data": {
            "text/plain": [
              "array([5, 0, 4, ..., 5, 6, 8], dtype=uint8)"
            ]
          },
          "metadata": {},
          "execution_count": 4
        }
      ]
    },
    {
      "cell_type": "code",
      "source": [
        "import matplotlib.pyplot as plt\n"
      ],
      "metadata": {
        "id": "Oo5gW8RfPXOJ"
      },
      "execution_count": null,
      "outputs": []
    },
    {
      "cell_type": "code",
      "source": [
        "plt.imshow(x_train[21654],plt.get_cmap('binary'))"
      ],
      "metadata": {
        "colab": {
          "base_uri": "https://localhost:8080/",
          "height": 447
        },
        "id": "rNDMa02WPbUJ",
        "outputId": "a568e85e-3af8-45ad-ff87-6178fdfdb787"
      },
      "execution_count": null,
      "outputs": [
        {
          "output_type": "execute_result",
          "data": {
            "text/plain": [
              "<matplotlib.image.AxesImage at 0x781d58a1b280>"
            ]
          },
          "metadata": {},
          "execution_count": 6
        },
        {
          "output_type": "display_data",
          "data": {
            "text/plain": [
              "<Figure size 640x480 with 1 Axes>"
            ],
            "image/png": "[encoded data removed]"
          },
          "metadata": {}
        }
      ]
    },
    {
      "cell_type": "code",
      "source": [
        "x_train.shape"
      ],
      "metadata": {
        "colab": {
          "base_uri": "https://localhost:8080/"
        },
        "id": "BKjvwlO3Plsd",
        "outputId": "d11c796a-c60f-4744-f8f4-c64f06d4ff4b"
      },
      "execution_count": null,
      "outputs": [
        {
          "output_type": "execute_result",
          "data": {
            "text/plain": [
              "(60000, 28, 28)"
            ]
          },
          "metadata": {},
          "execution_count": 7
        }
      ]
    },
    {
      "cell_type": "code",
      "source": [
        "y_train.shape"
      ],
      "metadata": {
        "colab": {
          "base_uri": "https://localhost:8080/"
        },
        "id": "x2sKOu-4PpZ2",
        "outputId": "c79affe0-5409-4995-bfce-b91492ac3050"
      },
      "execution_count": null,
      "outputs": [
        {
          "output_type": "execute_result",
          "data": {
            "text/plain": [
              "(60000,)"
            ]
          },
          "metadata": {},
          "execution_count": 8
        }
      ]
    },
    {
      "cell_type": "code",
      "source": [
        "x_test.shape"
      ],
      "metadata": {
        "colab": {
          "base_uri": "https://localhost:8080/"
        },
        "id": "8ZlwlrVEPr3a",
        "outputId": "0a353779-14ea-4464-8841-c2d7c096fa60"
      },
      "execution_count": null,
      "outputs": [
        {
          "output_type": "execute_result",
          "data": {
            "text/plain": [
              "(10000, 28, 28)"
            ]
          },
          "metadata": {},
          "execution_count": 9
        }
      ]
    },
    {
      "cell_type": "code",
      "source": [],
      "metadata": {
        "id": "uagGc-qSPucY"
      },
      "execution_count": null,
      "outputs": []
    },
    {
      "cell_type": "markdown",
      "source": [
        "visualize the img"
      ],
      "metadata": {
        "id": "YIMzyzm-PvPl"
      }
    },
    {
      "cell_type": "code",
      "source": [
        "x=1\n",
        "for i in range(30):\n",
        "    plt.subplot(6,6,x)\n",
        "    plt.imshow(x_train[i],plt.get_cmap('binary'))\n",
        "    x+=1"
      ],
      "metadata": {
        "colab": {
          "base_uri": "https://localhost:8080/",
          "height": 371
        },
        "id": "AbbteGVWPxZL",
        "outputId": "3d14cab1-e447-4dab-aae5-5e4efe316568"
      },
      "execution_count": null,
      "outputs": [
        {
          "output_type": "display_data",
          "data": {
            "text/plain": [
              "<Figure size 640x480 with 30 Axes>"
            ],
            "image/png": "[encoded data removed]"
          },
          "metadata": {}
        }
      ]
    },
    {
      "cell_type": "code",
      "source": [],
      "metadata": {
        "id": "VHqxsdZpP1h0"
      },
      "execution_count": null,
      "outputs": []
    },
    {
      "cell_type": "markdown",
      "source": [
        "preprocessing"
      ],
      "metadata": {
        "id": "6LIo2fINP9Cx"
      }
    },
    {
      "cell_type": "code",
      "source": [
        "from keras.utils import to_categorical"
      ],
      "metadata": {
        "id": "P8tyY82WP-4B"
      },
      "execution_count": null,
      "outputs": []
    },
    {
      "cell_type": "code",
      "source": [
        "y_cat_tr=to_categorical(y_train)    # encoding\n",
        "y_cat_ts=to_categorical(y_test)"
      ],
      "metadata": {
        "id": "XupEr_kAQD2T"
      },
      "execution_count": null,
      "outputs": []
    },
    {
      "cell_type": "code",
      "source": [
        "y_cat_tr"
      ],
      "metadata": {
        "colab": {
          "base_uri": "https://localhost:8080/"
        },
        "id": "v4E9FtvTQHXU",
        "outputId": "b19d1d62-65ff-4192-e73f-d4c1353ce8b3"
      },
      "execution_count": null,
      "outputs": [
        {
          "output_type": "execute_result",
          "data": {
            "text/plain": [
              "array([[0., 0., 0., ..., 0., 0., 0.],\n",
              "       [1., 0., 0., ..., 0., 0., 0.],\n",
              "       [0., 0., 0., ..., 0., 0., 0.],\n",
              "       ...,\n",
              "       [0., 0., 0., ..., 0., 0., 0.],\n",
              "       [0., 0., 0., ..., 0., 0., 0.],\n",
              "       [0., 0., 0., ..., 0., 1., 0.]], dtype=float32)"
            ]
          },
          "metadata": {},
          "execution_count": 13
        }
      ]
    },
    {
      "cell_type": "code",
      "source": [
        "x_train=x_train/255   #scaling\n",
        "x_test=x_test/255"
      ],
      "metadata": {
        "id": "vxjdsCKuQLcT"
      },
      "execution_count": null,
      "outputs": []
    },
    {
      "cell_type": "code",
      "source": [
        "x_train.shape"
      ],
      "metadata": {
        "colab": {
          "base_uri": "https://localhost:8080/"
        },
        "id": "EEpXCx9AQRh5",
        "outputId": "ab36778a-1172-42f3-e31c-0b68d5a7d2ab"
      },
      "execution_count": null,
      "outputs": [
        {
          "output_type": "execute_result",
          "data": {
            "text/plain": [
              "(60000, 28, 28)"
            ]
          },
          "metadata": {},
          "execution_count": 15
        }
      ]
    },
    {
      "cell_type": "code",
      "source": [
        "y_train.shape"
      ],
      "metadata": {
        "id": "Qka-3u4ZQWbH",
        "colab": {
          "base_uri": "https://localhost:8080/"
        },
        "outputId": "bcd34112-5b5b-4b44-9e18-2992ec2ce6df"
      },
      "execution_count": null,
      "outputs": [
        {
          "output_type": "execute_result",
          "data": {
            "text/plain": [
              "(60000,)"
            ]
          },
          "metadata": {},
          "execution_count": 16
        }
      ]
    },
    {
      "cell_type": "code",
      "source": [
        "y_cat_tr.shape"
      ],
      "metadata": {
        "colab": {
          "base_uri": "https://localhost:8080/"
        },
        "id": "4on-TAVK82Qg",
        "outputId": "11022a94-c831-49a9-a681-c7d245946e8d"
      },
      "execution_count": null,
      "outputs": [
        {
          "output_type": "execute_result",
          "data": {
            "text/plain": [
              "(60000, 10)"
            ]
          },
          "metadata": {},
          "execution_count": 17
        }
      ]
    },
    {
      "cell_type": "code",
      "source": [
        "# # Get the number of classes from the shape of y_cat_tr\n",
        "# num_classes = y_cat_tr.shape[1]\n",
        "\n",
        "# # Check if the last layer has the correct number of units\n",
        "# if sn.layers[-1].units != num_classes:\n",
        "#     # Adjust the number of units in the last layer\n",
        "#     sn.layers[-1].units = num_classes"
      ],
      "metadata": {
        "id": "jMfgyEpq9l2c"
      },
      "execution_count": null,
      "outputs": []
    },
    {
      "cell_type": "markdown",
      "source": [
        "Tuner"
      ],
      "metadata": {
        "id": "kSwtEnoA6w-R"
      }
    },
    {
      "cell_type": "code",
      "source": [],
      "metadata": {
        "id": "VvZTYsCf77RE"
      },
      "execution_count": null,
      "outputs": []
    },
    {
      "cell_type": "code",
      "source": [
        "# import tensorflow as tf\n",
        "# from tensorflow import keras\n",
        "# import keras_tuner as kt\n",
        "\n",
        "# Define your deep learning model architecture\n",
        "# def build_model(hp):\n",
        "#     model = keras.Sequential()\n",
        "#     model.add(keras.layers.Conv2D(filters=hp.Int('conv_1_filter', min_value=32, max_value=128, step=16),\n",
        "#                                   kernel_size=hp.Choice('conv_1_kernel', values=[3, 5]),\n",
        "#                                   activation='relu',\n",
        "#                                   input_shape=(28, 28, 1)))\n",
        "#     model.add(keras.layers.Conv2D(filters=hp.Int('conv_2_filter', min_value=32, max_value=64, step=16),\n",
        "#                                   kernel_size=hp.Choice('conv_2_kernel', values=[3, 5]),\n",
        "#                                   activation='relu'))\n",
        "#     model.add(keras.layers.Flatten())\n",
        "#     model.add(keras.layers.Dense(units=hp.Int('dense_1_units', min_value=32, max_value=128, step=16),\n",
        "#                                  activation='relu'))\n",
        "#     model.add(keras.layers.Dense(10, activation='softmax'))  # Output layer with 10 classes for MNIST dataset\n",
        "\n",
        "#     model.compile(optimizer=keras.optimizers.Adam(hp.Choice('learning_rate', values=[1e-2, 1e-3])),\n",
        "#                   loss='sparse_categorical_crossentropy',\n",
        "#                   metrics=['accuracy'])\n",
        "\n",
        "#     return model\n",
        "\n",
        "# # Initialize the Hyperband tuner\n",
        "# tuner = kt.Hyperband(build_model,\n",
        "#                      objective='val_accuracy',\n",
        "#                      max_epochs=10,\n",
        "#                      directory='tuner1',\n",
        "#                      project_name='tuner_demo')\n",
        "\n",
        "# # Prepare the data (assuming you're using MNIST dataset as an example)\n",
        "# mnist = tf.keras.datasets.mnist\n",
        "# (train_images, train_labels), (test_images, test_labels) = mnist.load_data()\n",
        "# train_images = train_images / 255.0\n",
        "# test_images = test_images / 255.0\n",
        "\n",
        "# # Run the tuner search\n",
        "# tuner.search(train_images, train_labels, epochs=10, validation_split=0.2)\n",
        "\n",
        "# # Retrieve the best model\n",
        "# best_hps = tuner.get_best_hyperparameters(num_trials=1)[0]\n",
        "# best_model = tuner.get_best_models(num_models=1)[0]\n",
        "\n",
        "# # Train the best model\n",
        "# best_model.fit(train_images, train_labels, epochs=10, validation_split=0.2)\n"
      ],
      "metadata": {
        "id": "4xRTx1My_Gtv"
      },
      "execution_count": null,
      "outputs": []
    },
    {
      "cell_type": "code",
      "source": [
        "\n",
        "# def Build_model(hp):\n",
        "#     sn = Sequential()\n",
        "\n",
        "#     u1 = hp.Int('unit1', min_value=32, max_value=512, step=32)\n",
        "#     u2 = hp.Int('unit2', min_value=32, max_value=512, step=32)\n",
        "#     #u3 = hp.Int('unit3', min_value=32, max_value=512, step=32)\n",
        "\n",
        "#     sn.add(Dense(units=u1, input_shape=x_train.shape[0], activation='relu'))\n",
        "#     sn.add(Dense(units=u2, activation='relu'))\n",
        "#     #sn.add(Dense(units=u3, activation='relu'))\n",
        "\n",
        "#     # Adjust the number of units in the output layer to match the shape of y_train\n",
        "#     sn.add(Dense(10, activation='softmax'))\n",
        "\n",
        "#     sn.compile(loss='categorical_crossentropy', optimizer='adam', metrics=['accuracy'])\n",
        "\n",
        "#     return sn"
      ],
      "metadata": {
        "id": "fDPWChTy6zsX"
      },
      "execution_count": null,
      "outputs": []
    },
    {
      "cell_type": "code",
      "source": [
        "from keras.models import Sequential\n",
        "from keras.layers import Dense,Dropout,BatchNormalization,Convolution2D, MaxPooling2D ,Flatten"
      ],
      "metadata": {
        "id": "FahK9y8b9D0D"
      },
      "execution_count": null,
      "outputs": []
    },
    {
      "cell_type": "code",
      "source": [
        "# import keras_tuner as kt\n",
        "\n",
        "# tuner = kt.Hyperband(build_model,\n",
        "#                      objective='val_accuracy',\n",
        "#                      max_epochs=10,\n",
        "#                      directory='tuner1',\n",
        "#                      project_name='tuner_demo')\n",
        "\n",
        "# tuner.search(x_train, y_cat_tr, epochs=15, validation_split=0.18)"
      ],
      "metadata": {
        "id": "9UC0INIe6zzb"
      },
      "execution_count": null,
      "outputs": []
    },
    {
      "cell_type": "code",
      "source": [
        "# !pip install keras-tuner"
      ],
      "metadata": {
        "id": "Sm0NWJFZ6z2W",
        "colab": {
          "base_uri": "https://localhost:8080/"
        },
        "outputId": "69e5fee7-b71e-4e73-93f4-145e6024d786"
      },
      "execution_count": null,
      "outputs": [
        {
          "output_type": "stream",
          "name": "stdout",
          "text": [
            "Collecting keras-tuner\n",
            "  Downloading keras_tuner-1.4.6-py3-none-any.whl (128 kB)\n",
            "\u001b[2K     \u001b[90m━━━━━━━━━━━━━━━━━━━━━━━━━━━━━━━━━━━━━━━━\u001b[0m \u001b[32m128.9/128.9 kB\u001b[0m \u001b[31m1.5 MB/s\u001b[0m eta \u001b[36m0:00:00\u001b[0m\n",
            "\u001b[?25hRequirement already satisfied: keras in /usr/local/lib/python3.10/dist-packages (from keras-tuner) (2.15.0)\n",
            "Requirement already satisfied: packaging in /usr/local/lib/python3.10/dist-packages (from keras-tuner) (23.2)\n",
            "Requirement already satisfied: requests in /usr/local/lib/python3.10/dist-packages (from keras-tuner) (2.31.0)\n",
            "Collecting kt-legacy (from keras-tuner)\n",
            "  Downloading kt_legacy-1.0.5-py3-none-any.whl (9.6 kB)\n",
            "Requirement already satisfied: charset-normalizer<4,>=2 in /usr/local/lib/python3.10/dist-packages (from requests->keras-tuner) (3.3.2)\n",
            "Requirement already satisfied: idna<4,>=2.5 in /usr/local/lib/python3.10/dist-packages (from requests->keras-tuner) (3.6)\n",
            "Requirement already satisfied: urllib3<3,>=1.21.1 in /usr/local/lib/python3.10/dist-packages (from requests->keras-tuner) (2.0.7)\n",
            "Requirement already satisfied: certifi>=2017.4.17 in /usr/local/lib/python3.10/dist-packages (from requests->keras-tuner) (2024.2.2)\n",
            "Installing collected packages: kt-legacy, keras-tuner\n",
            "Successfully installed keras-tuner-1.4.6 kt-legacy-1.0.5\n"
          ]
        }
      ]
    },
    {
      "cell_type": "markdown",
      "source": [
        "model building"
      ],
      "metadata": {
        "id": "MbaBX6GGQZkI"
      }
    },
    {
      "cell_type": "code",
      "source": [
        "from keras.models import Sequential\n",
        "from keras.layers import Dense,Dropout,BatchNormalization,Convolution2D, MaxPooling2D ,Flatten"
      ],
      "metadata": {
        "id": "A4Dx4YYYQaxE"
      },
      "execution_count": null,
      "outputs": []
    },
    {
      "cell_type": "code",
      "source": [
        "sn=Sequential()"
      ],
      "metadata": {
        "id": "g490fZwLQqzw"
      },
      "execution_count": null,
      "outputs": []
    },
    {
      "cell_type": "code",
      "source": [
        "sn.add(Convolution2D(filters=16,kernel_size=(3,3),input_shape=(28,28,1)))\n",
        "sn.add(MaxPooling2D(pool_size=(2,2)))\n",
        "sn.add(BatchNormalization())\n",
        "sn.add(Dropout(0.2))\n",
        "\n",
        "sn.add(Convolution2D(filters=16,kernel_size=(3,3)))\n",
        "sn.add(MaxPooling2D(pool_size=(2,2)))\n",
        "sn.add(BatchNormalization())\n",
        "sn.add(Dropout(0.2))\n",
        "\n",
        "\n",
        "sn.add(Convolution2D(filters=16,kernel_size=(3,3)))\n",
        "sn.add(MaxPooling2D(pool_size=(2,2)))\n",
        "sn.add(BatchNormalization())\n",
        "sn.add(Dropout(0.2))\n",
        "\n",
        "\n",
        "sn.add(Flatten())\n",
        "\n",
        "sn.add(Dense(850,activation='relu'))\n",
        "sn.add(Dense(800,activation='relu'))\n",
        "sn.add(Dense(750,activation='relu'))\n",
        "sn.add(Dense(700,activation='relu'))\n",
        "sn.add(Dense(650,activation='relu'))\n",
        "\n",
        "sn.add(Dense(10,activation='softmax'))"
      ],
      "metadata": {
        "id": "kUdxpyarQu6J"
      },
      "execution_count": null,
      "outputs": []
    },
    {
      "cell_type": "code",
      "source": [
        "from keras.callbacks import EarlyStopping"
      ],
      "metadata": {
        "id": "8fBEtDbwRelh"
      },
      "execution_count": null,
      "outputs": []
    },
    {
      "cell_type": "code",
      "source": [
        "Early=EarlyStopping(monitor='val_loss',patience=5)"
      ],
      "metadata": {
        "id": "o3rCHLAORo1-"
      },
      "execution_count": null,
      "outputs": []
    },
    {
      "cell_type": "code",
      "source": [],
      "metadata": {
        "id": "tQ_PS0t-Rxzz"
      },
      "execution_count": null,
      "outputs": []
    },
    {
      "cell_type": "markdown",
      "source": [
        "Complie"
      ],
      "metadata": {
        "id": "vwUXb98NRy1W"
      }
    },
    {
      "cell_type": "code",
      "source": [
        "sn.compile(loss='categorical_crossentropy', optimizer='adam', metrics=['accuracy'])"
      ],
      "metadata": {
        "id": "tjkOODNwSBpv"
      },
      "execution_count": null,
      "outputs": []
    },
    {
      "cell_type": "code",
      "source": [],
      "metadata": {
        "id": "OworeK6F4PcY"
      },
      "execution_count": null,
      "outputs": []
    },
    {
      "cell_type": "markdown",
      "source": [],
      "metadata": {
        "id": "d1eG5Ydm4QGa"
      }
    },
    {
      "cell_type": "markdown",
      "source": [
        "Fittin the model"
      ],
      "metadata": {
        "id": "fyhcAROK4QNt"
      }
    },
    {
      "cell_type": "code",
      "source": [
        "hist=sn.fit(x_train,y_cat_tr,validation_split=0.2,callbacks=[Early],epochs=10)"
      ],
      "metadata": {
        "colab": {
          "base_uri": "https://localhost:8080/"
        },
        "id": "8C7PbCoU4TqC",
        "outputId": "6a892bdd-7336-44df-e1cb-b2c2291f6b39"
      },
      "execution_count": null,
      "outputs": [
        {
          "output_type": "stream",
          "name": "stdout",
          "text": [
            "Epoch 1/10\n",
            "1500/1500 [==============================] - 19s 7ms/step - loss: 0.6491 - accuracy: 0.7930 - val_loss: 0.1873 - val_accuracy: 0.9503\n",
            "Epoch 2/10\n",
            "1500/1500 [==============================] - 11s 7ms/step - loss: 0.3546 - accuracy: 0.8946 - val_loss: 0.1494 - val_accuracy: 0.9599\n",
            "Epoch 3/10\n",
            "1500/1500 [==============================] - 10s 7ms/step - loss: 0.2965 - accuracy: 0.9123 - val_loss: 0.1350 - val_accuracy: 0.9603\n",
            "Epoch 4/10\n",
            "1500/1500 [==============================] - 10s 7ms/step - loss: 0.2689 - accuracy: 0.9197 - val_loss: 0.0997 - val_accuracy: 0.9709\n",
            "Epoch 5/10\n",
            "1500/1500 [==============================] - 10s 7ms/step - loss: 0.2506 - accuracy: 0.9257 - val_loss: 0.1032 - val_accuracy: 0.9702\n",
            "Epoch 6/10\n",
            "1500/1500 [==============================] - 11s 7ms/step - loss: 0.2429 - accuracy: 0.9283 - val_loss: 0.0932 - val_accuracy: 0.9718\n",
            "Epoch 7/10\n",
            "1500/1500 [==============================] - 11s 7ms/step - loss: 0.2294 - accuracy: 0.9301 - val_loss: 0.0873 - val_accuracy: 0.9734\n",
            "Epoch 8/10\n",
            "1500/1500 [==============================] - 10s 7ms/step - loss: 0.2237 - accuracy: 0.9335 - val_loss: 0.0879 - val_accuracy: 0.9720\n",
            "Epoch 9/10\n",
            "1500/1500 [==============================] - 10s 7ms/step - loss: 0.2098 - accuracy: 0.9363 - val_loss: 0.0862 - val_accuracy: 0.9747\n",
            "Epoch 10/10\n",
            "1500/1500 [==============================] - 10s 7ms/step - loss: 0.2157 - accuracy: 0.9366 - val_loss: 0.0832 - val_accuracy: 0.9735\n"
          ]
        }
      ]
    },
    {
      "cell_type": "code",
      "source": [
        "plt.plot(hist.history['loss'])\n",
        "plt.plot(hist.history['val_loss'])"
      ],
      "metadata": {
        "id": "0S70S4Yx5pzR",
        "colab": {
          "base_uri": "https://localhost:8080/",
          "height": 447
        },
        "outputId": "a7fc859a-91d2-418b-9e8d-105a627442cd"
      },
      "execution_count": null,
      "outputs": [
        {
          "output_type": "execute_result",
          "data": {
            "text/plain": [
              "[<matplotlib.lines.Line2D at 0x781d52bcb640>]"
            ]
          },
          "metadata": {},
          "execution_count": 31
        },
        {
          "output_type": "display_data",
          "data": {
            "text/plain": [
              "<Figure size 640x480 with 1 Axes>"
            ],
            "image/png": "[encoded data removed]"
          },
          "metadata": {}
        }
      ]
    },
    {
      "cell_type": "code",
      "source": [
        "plt.plot(hist.history['accuracy'])\n",
        "plt.plot(hist.history['val_accuracy'])"
      ],
      "metadata": {
        "id": "lLqgSUXg56R-",
        "colab": {
          "base_uri": "https://localhost:8080/",
          "height": 447
        },
        "outputId": "b0b87ba0-e5b0-4e06-e490-5377f2fb7a97"
      },
      "execution_count": null,
      "outputs": [
        {
          "output_type": "execute_result",
          "data": {
            "text/plain": [
              "[<matplotlib.lines.Line2D at 0x781d53257d60>]"
            ]
          },
          "metadata": {},
          "execution_count": 32
        },
        {
          "output_type": "display_data",
          "data": {
            "text/plain": [
              "<Figure size 640x480 with 1 Axes>"
            ],
            "image/png": "[encoded data removed]"
          },
          "metadata": {}
        }
      ]
    },
    {
      "cell_type": "code",
      "source": [],
      "metadata": {
        "id": "LGXLND6j6AHF"
      },
      "execution_count": null,
      "outputs": []
    },
    {
      "cell_type": "markdown",
      "source": [
        "Evalution of data"
      ],
      "metadata": {
        "id": "geE6x9jY6Buq"
      }
    },
    {
      "cell_type": "code",
      "source": [
        "from sklearn.metrics import accuracy_score,classification_report,multilabel_confusion_matrix,f1_score"
      ],
      "metadata": {
        "id": "X8FC-lJj6AKb"
      },
      "execution_count": null,
      "outputs": []
    },
    {
      "cell_type": "code",
      "source": [
        "y_pred=sn.predict(x_test)\n",
        "y_pred"
      ],
      "metadata": {
        "id": "Awdu29E76P9_",
        "colab": {
          "base_uri": "https://localhost:8080/"
        },
        "outputId": "9aaa6440-9b8d-42b0-b8fe-a438cf9194b6"
      },
      "execution_count": null,
      "outputs": [
        {
          "output_type": "stream",
          "name": "stdout",
          "text": [
            "313/313 [==============================] - 1s 3ms/step\n"
          ]
        },
        {
          "output_type": "execute_result",
          "data": {
            "text/plain": [
              "array([[1.6677118e-08, 3.8075245e-09, 1.1528494e-06, ..., 9.9999535e-01,\n",
              "        3.8539846e-10, 2.3416678e-06],\n",
              "       [3.2443565e-06, 9.3109190e-04, 9.9892116e-01, ..., 7.8833582e-05,\n",
              "        1.5477619e-05, 6.6159020e-09],\n",
              "       [2.0948412e-10, 1.0000000e+00, 2.7140261e-13, ..., 6.4479116e-11,\n",
              "        3.6210229e-11, 1.6711686e-15],\n",
              "       ...,\n",
              "       [2.2077984e-08, 3.9154401e-07, 3.1220060e-07, ..., 2.0411509e-05,\n",
              "        1.1897546e-06, 3.0749823e-05],\n",
              "       [2.8541101e-06, 3.1160102e-06, 3.4332663e-07, ..., 6.1757555e-07,\n",
              "        7.4950542e-05, 9.3894625e-05],\n",
              "       [3.7542750e-06, 1.1513862e-06, 1.5878330e-04, ..., 4.5648794e-11,\n",
              "        2.6366379e-04, 1.5231338e-08]], dtype=float32)"
            ]
          },
          "metadata": {},
          "execution_count": 34
        }
      ]
    },
    {
      "cell_type": "code",
      "source": [
        "import numpy as np"
      ],
      "metadata": {
        "id": "GAOn8O4H6huN"
      },
      "execution_count": null,
      "outputs": []
    },
    {
      "cell_type": "code",
      "source": [
        "y_pred1=np.argmax(y_pred, axis=-1)\n",
        "y_pred1"
      ],
      "metadata": {
        "id": "X5HpXaa_6so8",
        "colab": {
          "base_uri": "https://localhost:8080/"
        },
        "outputId": "59ecb427-d09d-4f93-f741-04577a14e0d4"
      },
      "execution_count": null,
      "outputs": [
        {
          "output_type": "execute_result",
          "data": {
            "text/plain": [
              "array([7, 2, 1, ..., 4, 5, 6])"
            ]
          },
          "metadata": {},
          "execution_count": 36
        }
      ]
    },
    {
      "cell_type": "code",
      "source": [
        "y_test"
      ],
      "metadata": {
        "id": "U0HZK0cs62u_",
        "colab": {
          "base_uri": "https://localhost:8080/"
        },
        "outputId": "6b8bffb6-3ad1-4894-8ee7-be90cd48a92f"
      },
      "execution_count": null,
      "outputs": [
        {
          "output_type": "execute_result",
          "data": {
            "text/plain": [
              "array([7, 2, 1, ..., 4, 5, 6], dtype=uint8)"
            ]
          },
          "metadata": {},
          "execution_count": 37
        }
      ]
    },
    {
      "cell_type": "code",
      "source": [
        "acc=accuracy_score(y_pred1,y_test)\n",
        "clf=classification_report(y_pred1,y_test)\n",
        "cnf=multilabel_confusion_matrix(y_pred1,y_test)\n",
        "\n",
        "\n",
        "print('Accuracy:',acc)\n",
        "print('classification_report:\\n',clf)\n",
        "print('Confusion_matrix:\\n',cnf)\n"
      ],
      "metadata": {
        "id": "skwMZwhO65a9",
        "colab": {
          "base_uri": "https://localhost:8080/"
        },
        "outputId": "b18bf559-8f7f-4da2-84ee-453e28e58952"
      },
      "execution_count": null,
      "outputs": [
        {
          "output_type": "stream",
          "name": "stdout",
          "text": [
            "Accuracy: 0.9753\n",
            "classification_report:\n",
            "               precision    recall  f1-score   support\n",
            "\n",
            "           0       0.99      0.97      0.98       993\n",
            "           1       0.99      0.98      0.99      1146\n",
            "           2       0.92      0.99      0.96       962\n",
            "           3       0.99      0.97      0.98      1024\n",
            "           4       0.98      0.98      0.98       982\n",
            "           5       0.98      0.98      0.98       895\n",
            "           6       0.98      0.97      0.98       971\n",
            "           7       0.98      0.94      0.96      1076\n",
            "           8       0.98      0.99      0.98       967\n",
            "           9       0.96      0.98      0.97       984\n",
            "\n",
            "    accuracy                           0.98     10000\n",
            "   macro avg       0.98      0.98      0.98     10000\n",
            "weighted avg       0.98      0.98      0.98     10000\n",
            "\n",
            "Confusion_matrix:\n",
            " [[[8995   12]\n",
            "  [  25  968]]\n",
            "\n",
            " [[8846    8]\n",
            "  [  19 1127]]\n",
            "\n",
            " [[8960   78]\n",
            "  [   8  954]]\n",
            "\n",
            " [[8963   13]\n",
            "  [  27  997]]\n",
            "\n",
            " [[8995   23]\n",
            "  [  23  959]]\n",
            "\n",
            " [[9089   16]\n",
            "  [  19  876]]\n",
            "\n",
            " [[9014   15]\n",
            "  [  28  943]]\n",
            "\n",
            " [[8904   20]\n",
            "  [  68 1008]]\n",
            "\n",
            " [[9012   21]\n",
            "  [  14  953]]\n",
            "\n",
            " [[8975   41]\n",
            "  [  16  968]]]\n"
          ]
        }
      ]
    },
    {
      "cell_type": "code",
      "source": [],
      "metadata": {
        "id": "g-HJP4m37Gl3"
      },
      "execution_count": null,
      "outputs": []
    },
    {
      "cell_type": "markdown",
      "source": [
        "UNSEEN DATA"
      ],
      "metadata": {
        "id": "9FyESeXk7HUx"
      }
    },
    {
      "cell_type": "code",
      "source": [
        "import cv2"
      ],
      "metadata": {
        "id": "ICgg4KP-7IVx"
      },
      "execution_count": null,
      "outputs": []
    },
    {
      "cell_type": "code",
      "source": [
        "img=cv2.imread('/content/Example_7.jpg', cv2.IMREAD_GRAYSCALE)\n",
        "type(img)"
      ],
      "metadata": {
        "id": "QdXPS-tD7J6S",
        "colab": {
          "base_uri": "https://localhost:8080/"
        },
        "outputId": "6fa3a6a1-4fcb-4a12-d75b-1c62bea2d1c5"
      },
      "execution_count": null,
      "outputs": [
        {
          "output_type": "execute_result",
          "data": {
            "text/plain": [
              "numpy.ndarray"
            ]
          },
          "metadata": {},
          "execution_count": 57
        }
      ]
    },
    {
      "cell_type": "code",
      "source": [
        "img"
      ],
      "metadata": {
        "id": "cSB5HeVp7x5A",
        "colab": {
          "base_uri": "https://localhost:8080/"
        },
        "outputId": "1aabc6a0-9190-4a89-c452-e487b9659286"
      },
      "execution_count": null,
      "outputs": [
        {
          "output_type": "execute_result",
          "data": {
            "text/plain": [
              "array([[255, 253, 255, 251, 255, 255, 252, 255, 255, 253, 252, 254, 255,\n",
              "        255, 255, 254, 254, 254, 255, 255, 255, 255, 255, 255, 255, 255,\n",
              "        255, 255],\n",
              "       [255, 253, 255, 255, 254, 252, 255, 250, 255, 251, 255, 255, 248,\n",
              "        255, 254, 255, 255, 255, 255, 253, 255, 255, 252, 255, 255, 255,\n",
              "        255, 255],\n",
              "       [251, 255, 253, 251, 255, 254, 254, 255, 254, 255, 250, 255, 255,\n",
              "        255, 252, 255, 254, 248, 255, 255, 254, 252, 255, 255, 255, 255,\n",
              "        255, 255],\n",
              "       [255, 255, 249, 183,  34,   0,   0,  30, 153, 255, 253, 254, 255,\n",
              "        247, 255, 253, 255, 255, 255, 255, 254, 253, 255, 251, 255, 255,\n",
              "        255, 255],\n",
              "       [249, 255, 255,  31,   2,   2,   0,   3,   0,   2,   2,   1,   0,\n",
              "          8,   0,   2,   0,  36, 156, 255, 255, 250, 255, 255, 255, 255,\n",
              "        255, 255],\n",
              "       [255, 252, 253, 135,   0,   0,   0,   0,   2,   0,   0,   5,   1,\n",
              "          1,   0,   5,   5,   0,   5,  35, 134, 255, 254, 255, 255, 255,\n",
              "        255, 255],\n",
              "       [255, 254, 254, 255, 250, 255, 250,  93,   1,   0,   1,   2,   0,\n",
              "          2,   1,   0,   1,   2,   0,   0,   0, 255, 255, 248, 255, 255,\n",
              "        255, 255],\n",
              "       [255, 255, 255, 251, 255, 252, 250, 255, 252, 255, 252, 251, 255,\n",
              "        253, 255, 253, 133,   0,   1,   2,  77, 255, 247, 255, 255, 255,\n",
              "        255, 255],\n",
              "       [255, 253, 255, 254, 251, 255, 254, 254, 255, 251, 253, 255, 250,\n",
              "        253, 255, 255, 253,   3,   4,   1, 246, 251, 255, 255, 255, 255,\n",
              "        255, 255],\n",
              "       [251, 255, 254, 255, 255, 248, 251, 255, 254, 253, 255, 253, 255,\n",
              "        253, 252, 253, 128,   0,   0,   3, 253, 255, 251, 254, 255, 255,\n",
              "        255, 255],\n",
              "       [255, 255, 249, 250, 253, 255, 253, 255, 252, 255, 249, 253, 255,\n",
              "        254, 255, 152,   1,   1,   3,  92, 251, 255, 255, 251, 255, 255,\n",
              "        255, 255],\n",
              "       [251, 255, 253, 255, 255, 253, 254, 253, 253, 254, 255, 254, 251,\n",
              "        255, 252,  21,   0,   0,  71, 245, 254, 252, 255, 255, 255, 255,\n",
              "        255, 255],\n",
              "       [254, 253, 255, 251, 255, 253, 186,  65, 156, 251, 255, 253, 255,\n",
              "        253, 150,   3,   0,   9, 240, 252, 255, 255, 251, 255, 255, 255,\n",
              "        255, 255],\n",
              "       [252, 255, 250, 255, 255, 255,  29,   2,   0,   1,   1,   0,   0,\n",
              "          1,   0,   0,   2,  86, 255, 255, 253, 252, 255, 255, 255, 255,\n",
              "        255, 255],\n",
              "       [253, 254, 255, 253, 252, 255, 114,   0,   5,   0,   0,   4,   2,\n",
              "          0,   1,   0,   0,   3,  35, 157, 254, 255, 252, 254, 255, 255,\n",
              "        255, 255],\n",
              "       [255, 252, 255, 254, 255, 249, 249,  94,   0,   2,   2,   0,   0,\n",
              "          0,   2,   1,   2,   0,   0,   8, 255, 251, 254, 255, 255, 255,\n",
              "        255, 255],\n",
              "       [255, 255, 255, 255, 255, 255, 255, 255, 253, 255, 252, 251, 255,\n",
              "         25,   3,   0,   5,   0,   4, 104, 254, 255, 251, 254, 255, 255,\n",
              "        255, 255],\n",
              "       [255, 255, 255, 255, 255, 255, 255, 255, 255, 253, 255, 247, 255,\n",
              "          0,   1,   2, 246, 255, 255, 253, 255, 249, 255, 254, 255, 255,\n",
              "        255, 255],\n",
              "       [255, 255, 255, 255, 255, 255, 255, 255, 251, 255, 254, 255, 148,\n",
              "          4,   3,   0, 255, 254, 254, 255, 250, 255, 255, 255, 255, 255,\n",
              "        255, 255],\n",
              "       [255, 255, 255, 255, 255, 255, 255, 255, 255, 252, 254, 248,  24,\n",
              "          3,   0,  86, 251, 254, 255, 251, 255, 254, 247, 255, 255, 255,\n",
              "        255, 255],\n",
              "       [255, 255, 255, 255, 255, 255, 255, 255, 254, 255, 253, 155,   5,\n",
              "          0,   3, 245, 255, 255, 255, 251, 255, 254, 255, 254, 255, 255,\n",
              "        255, 255],\n",
              "       [255, 255, 255, 255, 255, 255, 255, 255, 255, 255, 255,  21,   3,\n",
              "          1,  87, 255, 254, 254, 252, 255, 255, 249, 252, 251, 255, 255,\n",
              "        255, 255],\n",
              "       [255, 255, 255, 255, 255, 255, 255, 255, 255, 253, 255,   0,   0,\n",
              "          5, 242, 255, 248, 255, 254, 251, 253, 255, 255, 255, 255, 255,\n",
              "        255, 255],\n",
              "       [255, 255, 255, 255, 255, 255, 255, 255, 255, 254, 148,   2,   1,\n",
              "          0, 255, 253, 255, 254, 255, 251, 255, 255, 253, 254, 255, 255,\n",
              "        255, 255],\n",
              "       [255, 255, 255, 255, 255, 255, 255, 255, 252, 255,  26,   0,   0,\n",
              "         88, 253, 254, 255, 255, 255, 255, 255, 255, 255, 255, 255, 255,\n",
              "        255, 255],\n",
              "       [255, 255, 255, 255, 255, 255, 255, 255, 255, 182,   0,   0,   3,\n",
              "        245, 255, 250, 255, 255, 255, 255, 255, 255, 255, 255, 255, 255,\n",
              "        255, 255],\n",
              "       [255, 255, 255, 255, 255, 255, 255, 255, 255,  33,   5,   3,   0,\n",
              "        255, 255, 255, 255, 255, 255, 255, 255, 255, 255, 255, 255, 255,\n",
              "        255, 255],\n",
              "       [255, 255, 255, 255, 255, 255, 255, 255, 255, 135,   0,   4,  99,\n",
              "        254, 254, 255, 255, 255, 255, 255, 255, 255, 255, 255, 255, 255,\n",
              "        255, 255]], dtype=uint8)"
            ]
          },
          "metadata": {},
          "execution_count": 41
        }
      ]
    },
    {
      "cell_type": "code",
      "source": [
        "plt.imshow(img,plt.get_cmap('binary'))"
      ],
      "metadata": {
        "id": "P9kzp5wa74FW",
        "colab": {
          "base_uri": "https://localhost:8080/",
          "height": 447
        },
        "outputId": "131c8b4f-458e-4518-a289-14d5d63b577e"
      },
      "execution_count": null,
      "outputs": [
        {
          "output_type": "execute_result",
          "data": {
            "text/plain": [
              "<matplotlib.image.AxesImage at 0x781c8e0681f0>"
            ]
          },
          "metadata": {},
          "execution_count": 42
        },
        {
          "output_type": "display_data",
          "data": {
            "text/plain": [
              "<Figure size 640x480 with 1 Axes>"
            ],
            "image/png": "[encoded data removed]"
          },
          "metadata": {}
        }
      ]
    },
    {
      "cell_type": "code",
      "source": [
        "img=~img"
      ],
      "metadata": {
        "id": "DaeK8GzV9Rw8"
      },
      "execution_count": null,
      "outputs": []
    },
    {
      "cell_type": "code",
      "source": [
        "img"
      ],
      "metadata": {
        "id": "oVQjymYV8Aae",
        "colab": {
          "base_uri": "https://localhost:8080/"
        },
        "outputId": "dd04d515-124f-4809-873e-83f91d713178"
      },
      "execution_count": null,
      "outputs": [
        {
          "output_type": "execute_result",
          "data": {
            "text/plain": [
              "array([[  0,   2,   0,   4,   0,   0,   3,   0,   0,   2,   3,   1,   0,\n",
              "          0,   0,   1,   1,   1,   0,   0,   0,   0,   0,   0,   0,   0,\n",
              "          0,   0],\n",
              "       [  0,   2,   0,   0,   1,   3,   0,   5,   0,   4,   0,   0,   7,\n",
              "          0,   1,   0,   0,   0,   0,   2,   0,   0,   3,   0,   0,   0,\n",
              "          0,   0],\n",
              "       [  4,   0,   2,   4,   0,   1,   1,   0,   1,   0,   5,   0,   0,\n",
              "          0,   3,   0,   1,   7,   0,   0,   1,   3,   0,   0,   0,   0,\n",
              "          0,   0],\n",
              "       [  0,   0,   6,  72, 221, 255, 255, 225, 102,   0,   2,   1,   0,\n",
              "          8,   0,   2,   0,   0,   0,   0,   1,   2,   0,   4,   0,   0,\n",
              "          0,   0],\n",
              "       [  6,   0,   0, 224, 253, 253, 255, 252, 255, 253, 253, 254, 255,\n",
              "        247, 255, 253, 255, 219,  99,   0,   0,   5,   0,   0,   0,   0,\n",
              "          0,   0],\n",
              "       [  0,   3,   2, 120, 255, 255, 255, 255, 253, 255, 255, 250, 254,\n",
              "        254, 255, 250, 250, 255, 250, 220, 121,   0,   1,   0,   0,   0,\n",
              "          0,   0],\n",
              "       [  0,   1,   1,   0,   5,   0,   5, 162, 254, 255, 254, 253, 255,\n",
              "        253, 254, 255, 254, 253, 255, 255, 255,   0,   0,   7,   0,   0,\n",
              "          0,   0],\n",
              "       [  0,   0,   0,   4,   0,   3,   5,   0,   3,   0,   3,   4,   0,\n",
              "          2,   0,   2, 122, 255, 254, 253, 178,   0,   8,   0,   0,   0,\n",
              "          0,   0],\n",
              "       [  0,   2,   0,   1,   4,   0,   1,   1,   0,   4,   2,   0,   5,\n",
              "          2,   0,   0,   2, 252, 251, 254,   9,   4,   0,   0,   0,   0,\n",
              "          0,   0],\n",
              "       [  4,   0,   1,   0,   0,   7,   4,   0,   1,   2,   0,   2,   0,\n",
              "          2,   3,   2, 127, 255, 255, 252,   2,   0,   4,   1,   0,   0,\n",
              "          0,   0],\n",
              "       [  0,   0,   6,   5,   2,   0,   2,   0,   3,   0,   6,   2,   0,\n",
              "          1,   0, 103, 254, 254, 252, 163,   4,   0,   0,   4,   0,   0,\n",
              "          0,   0],\n",
              "       [  4,   0,   2,   0,   0,   2,   1,   2,   2,   1,   0,   1,   4,\n",
              "          0,   3, 234, 255, 255, 184,  10,   1,   3,   0,   0,   0,   0,\n",
              "          0,   0],\n",
              "       [  1,   2,   0,   4,   0,   2,  69, 190,  99,   4,   0,   2,   0,\n",
              "          2, 105, 252, 255, 246,  15,   3,   0,   0,   4,   0,   0,   0,\n",
              "          0,   0],\n",
              "       [  3,   0,   5,   0,   0,   0, 226, 253, 255, 254, 254, 255, 255,\n",
              "        254, 255, 255, 253, 169,   0,   0,   2,   3,   0,   0,   0,   0,\n",
              "          0,   0],\n",
              "       [  2,   1,   0,   2,   3,   0, 141, 255, 250, 255, 255, 251, 253,\n",
              "        255, 254, 255, 255, 252, 220,  98,   1,   0,   3,   1,   0,   0,\n",
              "          0,   0],\n",
              "       [  0,   3,   0,   1,   0,   6,   6, 161, 255, 253, 253, 255, 255,\n",
              "        255, 253, 254, 253, 255, 255, 247,   0,   4,   1,   0,   0,   0,\n",
              "          0,   0],\n",
              "       [  0,   0,   0,   0,   0,   0,   0,   0,   2,   0,   3,   4,   0,\n",
              "        230, 252, 255, 250, 255, 251, 151,   1,   0,   4,   1,   0,   0,\n",
              "          0,   0],\n",
              "       [  0,   0,   0,   0,   0,   0,   0,   0,   0,   2,   0,   8,   0,\n",
              "        255, 254, 253,   9,   0,   0,   2,   0,   6,   0,   1,   0,   0,\n",
              "          0,   0],\n",
              "       [  0,   0,   0,   0,   0,   0,   0,   0,   4,   0,   1,   0, 107,\n",
              "        251, 252, 255,   0,   1,   1,   0,   5,   0,   0,   0,   0,   0,\n",
              "          0,   0],\n",
              "       [  0,   0,   0,   0,   0,   0,   0,   0,   0,   3,   1,   7, 231,\n",
              "        252, 255, 169,   4,   1,   0,   4,   0,   1,   8,   0,   0,   0,\n",
              "          0,   0],\n",
              "       [  0,   0,   0,   0,   0,   0,   0,   0,   1,   0,   2, 100, 250,\n",
              "        255, 252,  10,   0,   0,   0,   4,   0,   1,   0,   1,   0,   0,\n",
              "          0,   0],\n",
              "       [  0,   0,   0,   0,   0,   0,   0,   0,   0,   0,   0, 234, 252,\n",
              "        254, 168,   0,   1,   1,   3,   0,   0,   6,   3,   4,   0,   0,\n",
              "          0,   0],\n",
              "       [  0,   0,   0,   0,   0,   0,   0,   0,   0,   2,   0, 255, 255,\n",
              "        250,  13,   0,   7,   0,   1,   4,   2,   0,   0,   0,   0,   0,\n",
              "          0,   0],\n",
              "       [  0,   0,   0,   0,   0,   0,   0,   0,   0,   1, 107, 253, 254,\n",
              "        255,   0,   2,   0,   1,   0,   4,   0,   0,   2,   1,   0,   0,\n",
              "          0,   0],\n",
              "       [  0,   0,   0,   0,   0,   0,   0,   0,   3,   0, 229, 255, 255,\n",
              "        167,   2,   1,   0,   0,   0,   0,   0,   0,   0,   0,   0,   0,\n",
              "          0,   0],\n",
              "       [  0,   0,   0,   0,   0,   0,   0,   0,   0,  73, 255, 255, 252,\n",
              "         10,   0,   5,   0,   0,   0,   0,   0,   0,   0,   0,   0,   0,\n",
              "          0,   0],\n",
              "       [  0,   0,   0,   0,   0,   0,   0,   0,   0, 222, 250, 252, 255,\n",
              "          0,   0,   0,   0,   0,   0,   0,   0,   0,   0,   0,   0,   0,\n",
              "          0,   0],\n",
              "       [  0,   0,   0,   0,   0,   0,   0,   0,   0, 120, 255, 251, 156,\n",
              "          1,   1,   0,   0,   0,   0,   0,   0,   0,   0,   0,   0,   0,\n",
              "          0,   0]], dtype=uint8)"
            ]
          },
          "metadata": {},
          "execution_count": 44
        }
      ]
    },
    {
      "cell_type": "code",
      "source": [
        "plt.imshow(img,plt.get_cmap('binary'))"
      ],
      "metadata": {
        "id": "FlLm2X_j7f-Y",
        "colab": {
          "base_uri": "https://localhost:8080/",
          "height": 447
        },
        "outputId": "1b1b9ab9-e6dc-469a-867d-c251292e55a3"
      },
      "execution_count": null,
      "outputs": [
        {
          "output_type": "execute_result",
          "data": {
            "text/plain": [
              "<matplotlib.image.AxesImage at 0x781c8e0c9930>"
            ]
          },
          "metadata": {},
          "execution_count": 45
        },
        {
          "output_type": "display_data",
          "data": {
            "text/plain": [
              "<Figure size 640x480 with 1 Axes>"
            ],
            "image/png": "[encoded data removed]"
          },
          "metadata": {}
        }
      ]
    },
    {
      "cell_type": "code",
      "source": [
        "img1=img/255   #scaling\n",
        "img1"
      ],
      "metadata": {
        "id": "16jZjivK7klX",
        "colab": {
          "base_uri": "https://localhost:8080/"
        },
        "outputId": "637eee57-b034-4c47-905e-d125ae0331b1"
      },
      "execution_count": null,
      "outputs": [
        {
          "output_type": "execute_result",
          "data": {
            "text/plain": [
              "array([[0.        , 0.00784314, 0.        , 0.01568627, 0.        ,\n",
              "        0.        , 0.01176471, 0.        , 0.        , 0.00784314,\n",
              "        0.01176471, 0.00392157, 0.        , 0.        , 0.        ,\n",
              "        0.00392157, 0.00392157, 0.00392157, 0.        , 0.        ,\n",
              "        0.        , 0.        , 0.        , 0.        , 0.        ,\n",
              "        0.        , 0.        , 0.        ],\n",
              "       [0.        , 0.00784314, 0.        , 0.        , 0.00392157,\n",
              "        0.01176471, 0.        , 0.01960784, 0.        , 0.01568627,\n",
              "        0.        , 0.        , 0.02745098, 0.        , 0.00392157,\n",
              "        0.        , 0.        , 0.        , 0.        , 0.00784314,\n",
              "        0.        , 0.        , 0.01176471, 0.        , 0.        ,\n",
              "        0.        , 0.        , 0.        ],\n",
              "       [0.01568627, 0.        , 0.00784314, 0.01568627, 0.        ,\n",
              "        0.00392157, 0.00392157, 0.        , 0.00392157, 0.        ,\n",
              "        0.01960784, 0.        , 0.        , 0.        , 0.01176471,\n",
              "        0.        , 0.00392157, 0.02745098, 0.        , 0.        ,\n",
              "        0.00392157, 0.01176471, 0.        , 0.        , 0.        ,\n",
              "        0.        , 0.        , 0.        ],\n",
              "       [0.        , 0.        , 0.02352941, 0.28235294, 0.86666667,\n",
              "        1.        , 1.        , 0.88235294, 0.4       , 0.        ,\n",
              "        0.00784314, 0.00392157, 0.        , 0.03137255, 0.        ,\n",
              "        0.00784314, 0.        , 0.        , 0.        , 0.        ,\n",
              "        0.00392157, 0.00784314, 0.        , 0.01568627, 0.        ,\n",
              "        0.        , 0.        , 0.        ],\n",
              "       [0.02352941, 0.        , 0.        , 0.87843137, 0.99215686,\n",
              "        0.99215686, 1.        , 0.98823529, 1.        , 0.99215686,\n",
              "        0.99215686, 0.99607843, 1.        , 0.96862745, 1.        ,\n",
              "        0.99215686, 1.        , 0.85882353, 0.38823529, 0.        ,\n",
              "        0.        , 0.01960784, 0.        , 0.        , 0.        ,\n",
              "        0.        , 0.        , 0.        ],\n",
              "       [0.        , 0.01176471, 0.00784314, 0.47058824, 1.        ,\n",
              "        1.        , 1.        , 1.        , 0.99215686, 1.        ,\n",
              "        1.        , 0.98039216, 0.99607843, 0.99607843, 1.        ,\n",
              "        0.98039216, 0.98039216, 1.        , 0.98039216, 0.8627451 ,\n",
              "        0.4745098 , 0.        , 0.00392157, 0.        , 0.        ,\n",
              "        0.        , 0.        , 0.        ],\n",
              "       [0.        , 0.00392157, 0.00392157, 0.        , 0.01960784,\n",
              "        0.        , 0.01960784, 0.63529412, 0.99607843, 1.        ,\n",
              "        0.99607843, 0.99215686, 1.        , 0.99215686, 0.99607843,\n",
              "        1.        , 0.99607843, 0.99215686, 1.        , 1.        ,\n",
              "        1.        , 0.        , 0.        , 0.02745098, 0.        ,\n",
              "        0.        , 0.        , 0.        ],\n",
              "       [0.        , 0.        , 0.        , 0.01568627, 0.        ,\n",
              "        0.01176471, 0.01960784, 0.        , 0.01176471, 0.        ,\n",
              "        0.01176471, 0.01568627, 0.        , 0.00784314, 0.        ,\n",
              "        0.00784314, 0.47843137, 1.        , 0.99607843, 0.99215686,\n",
              "        0.69803922, 0.        , 0.03137255, 0.        , 0.        ,\n",
              "        0.        , 0.        , 0.        ],\n",
              "       [0.        , 0.00784314, 0.        , 0.00392157, 0.01568627,\n",
              "        0.        , 0.00392157, 0.00392157, 0.        , 0.01568627,\n",
              "        0.00784314, 0.        , 0.01960784, 0.00784314, 0.        ,\n",
              "        0.        , 0.00784314, 0.98823529, 0.98431373, 0.99607843,\n",
              "        0.03529412, 0.01568627, 0.        , 0.        , 0.        ,\n",
              "        0.        , 0.        , 0.        ],\n",
              "       [0.01568627, 0.        , 0.00392157, 0.        , 0.        ,\n",
              "        0.02745098, 0.01568627, 0.        , 0.00392157, 0.00784314,\n",
              "        0.        , 0.00784314, 0.        , 0.00784314, 0.01176471,\n",
              "        0.00784314, 0.49803922, 1.        , 1.        , 0.98823529,\n",
              "        0.00784314, 0.        , 0.01568627, 0.00392157, 0.        ,\n",
              "        0.        , 0.        , 0.        ],\n",
              "       [0.        , 0.        , 0.02352941, 0.01960784, 0.00784314,\n",
              "        0.        , 0.00784314, 0.        , 0.01176471, 0.        ,\n",
              "        0.02352941, 0.00784314, 0.        , 0.00392157, 0.        ,\n",
              "        0.40392157, 0.99607843, 0.99607843, 0.98823529, 0.63921569,\n",
              "        0.01568627, 0.        , 0.        , 0.01568627, 0.        ,\n",
              "        0.        , 0.        , 0.        ],\n",
              "       [0.01568627, 0.        , 0.00784314, 0.        , 0.        ,\n",
              "        0.00784314, 0.00392157, 0.00784314, 0.00784314, 0.00392157,\n",
              "        0.        , 0.00392157, 0.01568627, 0.        , 0.01176471,\n",
              "        0.91764706, 1.        , 1.        , 0.72156863, 0.03921569,\n",
              "        0.00392157, 0.01176471, 0.        , 0.        , 0.        ,\n",
              "        0.        , 0.        , 0.        ],\n",
              "       [0.00392157, 0.00784314, 0.        , 0.01568627, 0.        ,\n",
              "        0.00784314, 0.27058824, 0.74509804, 0.38823529, 0.01568627,\n",
              "        0.        , 0.00784314, 0.        , 0.00784314, 0.41176471,\n",
              "        0.98823529, 1.        , 0.96470588, 0.05882353, 0.01176471,\n",
              "        0.        , 0.        , 0.01568627, 0.        , 0.        ,\n",
              "        0.        , 0.        , 0.        ],\n",
              "       [0.01176471, 0.        , 0.01960784, 0.        , 0.        ,\n",
              "        0.        , 0.88627451, 0.99215686, 1.        , 0.99607843,\n",
              "        0.99607843, 1.        , 1.        , 0.99607843, 1.        ,\n",
              "        1.        , 0.99215686, 0.6627451 , 0.        , 0.        ,\n",
              "        0.00784314, 0.01176471, 0.        , 0.        , 0.        ,\n",
              "        0.        , 0.        , 0.        ],\n",
              "       [0.00784314, 0.00392157, 0.        , 0.00784314, 0.01176471,\n",
              "        0.        , 0.55294118, 1.        , 0.98039216, 1.        ,\n",
              "        1.        , 0.98431373, 0.99215686, 1.        , 0.99607843,\n",
              "        1.        , 1.        , 0.98823529, 0.8627451 , 0.38431373,\n",
              "        0.00392157, 0.        , 0.01176471, 0.00392157, 0.        ,\n",
              "        0.        , 0.        , 0.        ],\n",
              "       [0.        , 0.01176471, 0.        , 0.00392157, 0.        ,\n",
              "        0.02352941, 0.02352941, 0.63137255, 1.        , 0.99215686,\n",
              "        0.99215686, 1.        , 1.        , 1.        , 0.99215686,\n",
              "        0.99607843, 0.99215686, 1.        , 1.        , 0.96862745,\n",
              "        0.        , 0.01568627, 0.00392157, 0.        , 0.        ,\n",
              "        0.        , 0.        , 0.        ],\n",
              "       [0.        , 0.        , 0.        , 0.        , 0.        ,\n",
              "        0.        , 0.        , 0.        , 0.00784314, 0.        ,\n",
              "        0.01176471, 0.01568627, 0.        , 0.90196078, 0.98823529,\n",
              "        1.        , 0.98039216, 1.        , 0.98431373, 0.59215686,\n",
              "        0.00392157, 0.        , 0.01568627, 0.00392157, 0.        ,\n",
              "        0.        , 0.        , 0.        ],\n",
              "       [0.        , 0.        , 0.        , 0.        , 0.        ,\n",
              "        0.        , 0.        , 0.        , 0.        , 0.00784314,\n",
              "        0.        , 0.03137255, 0.        , 1.        , 0.99607843,\n",
              "        0.99215686, 0.03529412, 0.        , 0.        , 0.00784314,\n",
              "        0.        , 0.02352941, 0.        , 0.00392157, 0.        ,\n",
              "        0.        , 0.        , 0.        ],\n",
              "       [0.        , 0.        , 0.        , 0.        , 0.        ,\n",
              "        0.        , 0.        , 0.        , 0.01568627, 0.        ,\n",
              "        0.00392157, 0.        , 0.41960784, 0.98431373, 0.98823529,\n",
              "        1.        , 0.        , 0.00392157, 0.00392157, 0.        ,\n",
              "        0.01960784, 0.        , 0.        , 0.        , 0.        ,\n",
              "        0.        , 0.        , 0.        ],\n",
              "       [0.        , 0.        , 0.        , 0.        , 0.        ,\n",
              "        0.        , 0.        , 0.        , 0.        , 0.01176471,\n",
              "        0.00392157, 0.02745098, 0.90588235, 0.98823529, 1.        ,\n",
              "        0.6627451 , 0.01568627, 0.00392157, 0.        , 0.01568627,\n",
              "        0.        , 0.00392157, 0.03137255, 0.        , 0.        ,\n",
              "        0.        , 0.        , 0.        ],\n",
              "       [0.        , 0.        , 0.        , 0.        , 0.        ,\n",
              "        0.        , 0.        , 0.        , 0.00392157, 0.        ,\n",
              "        0.00784314, 0.39215686, 0.98039216, 1.        , 0.98823529,\n",
              "        0.03921569, 0.        , 0.        , 0.        , 0.01568627,\n",
              "        0.        , 0.00392157, 0.        , 0.00392157, 0.        ,\n",
              "        0.        , 0.        , 0.        ],\n",
              "       [0.        , 0.        , 0.        , 0.        , 0.        ,\n",
              "        0.        , 0.        , 0.        , 0.        , 0.        ,\n",
              "        0.        , 0.91764706, 0.98823529, 0.99607843, 0.65882353,\n",
              "        0.        , 0.00392157, 0.00392157, 0.01176471, 0.        ,\n",
              "        0.        , 0.02352941, 0.01176471, 0.01568627, 0.        ,\n",
              "        0.        , 0.        , 0.        ],\n",
              "       [0.        , 0.        , 0.        , 0.        , 0.        ,\n",
              "        0.        , 0.        , 0.        , 0.        , 0.00784314,\n",
              "        0.        , 1.        , 1.        , 0.98039216, 0.05098039,\n",
              "        0.        , 0.02745098, 0.        , 0.00392157, 0.01568627,\n",
              "        0.00784314, 0.        , 0.        , 0.        , 0.        ,\n",
              "        0.        , 0.        , 0.        ],\n",
              "       [0.        , 0.        , 0.        , 0.        , 0.        ,\n",
              "        0.        , 0.        , 0.        , 0.        , 0.00392157,\n",
              "        0.41960784, 0.99215686, 0.99607843, 1.        , 0.        ,\n",
              "        0.00784314, 0.        , 0.00392157, 0.        , 0.01568627,\n",
              "        0.        , 0.        , 0.00784314, 0.00392157, 0.        ,\n",
              "        0.        , 0.        , 0.        ],\n",
              "       [0.        , 0.        , 0.        , 0.        , 0.        ,\n",
              "        0.        , 0.        , 0.        , 0.01176471, 0.        ,\n",
              "        0.89803922, 1.        , 1.        , 0.65490196, 0.00784314,\n",
              "        0.00392157, 0.        , 0.        , 0.        , 0.        ,\n",
              "        0.        , 0.        , 0.        , 0.        , 0.        ,\n",
              "        0.        , 0.        , 0.        ],\n",
              "       [0.        , 0.        , 0.        , 0.        , 0.        ,\n",
              "        0.        , 0.        , 0.        , 0.        , 0.28627451,\n",
              "        1.        , 1.        , 0.98823529, 0.03921569, 0.        ,\n",
              "        0.01960784, 0.        , 0.        , 0.        , 0.        ,\n",
              "        0.        , 0.        , 0.        , 0.        , 0.        ,\n",
              "        0.        , 0.        , 0.        ],\n",
              "       [0.        , 0.        , 0.        , 0.        , 0.        ,\n",
              "        0.        , 0.        , 0.        , 0.        , 0.87058824,\n",
              "        0.98039216, 0.98823529, 1.        , 0.        , 0.        ,\n",
              "        0.        , 0.        , 0.        , 0.        , 0.        ,\n",
              "        0.        , 0.        , 0.        , 0.        , 0.        ,\n",
              "        0.        , 0.        , 0.        ],\n",
              "       [0.        , 0.        , 0.        , 0.        , 0.        ,\n",
              "        0.        , 0.        , 0.        , 0.        , 0.47058824,\n",
              "        1.        , 0.98431373, 0.61176471, 0.00392157, 0.00392157,\n",
              "        0.        , 0.        , 0.        , 0.        , 0.        ,\n",
              "        0.        , 0.        , 0.        , 0.        , 0.        ,\n",
              "        0.        , 0.        , 0.        ]])"
            ]
          },
          "metadata": {},
          "execution_count": 46
        }
      ]
    },
    {
      "cell_type": "code",
      "source": [
        "img2=np.array([img1])\n",
        "img2"
      ],
      "metadata": {
        "id": "7r6f7HBG7qxr",
        "colab": {
          "base_uri": "https://localhost:8080/"
        },
        "outputId": "65336ddd-6039-4193-9ef8-58665d8105df"
      },
      "execution_count": null,
      "outputs": [
        {
          "output_type": "execute_result",
          "data": {
            "text/plain": [
              "array([[[0.        , 0.00784314, 0.        , 0.01568627, 0.        ,\n",
              "         0.        , 0.01176471, 0.        , 0.        , 0.00784314,\n",
              "         0.01176471, 0.00392157, 0.        , 0.        , 0.        ,\n",
              "         0.00392157, 0.00392157, 0.00392157, 0.        , 0.        ,\n",
              "         0.        , 0.        , 0.        , 0.        , 0.        ,\n",
              "         0.        , 0.        , 0.        ],\n",
              "        [0.        , 0.00784314, 0.        , 0.        , 0.00392157,\n",
              "         0.01176471, 0.        , 0.01960784, 0.        , 0.01568627,\n",
              "         0.        , 0.        , 0.02745098, 0.        , 0.00392157,\n",
              "         0.        , 0.        , 0.        , 0.        , 0.00784314,\n",
              "         0.        , 0.        , 0.01176471, 0.        , 0.        ,\n",
              "         0.        , 0.        , 0.        ],\n",
              "        [0.01568627, 0.        , 0.00784314, 0.01568627, 0.        ,\n",
              "         0.00392157, 0.00392157, 0.        , 0.00392157, 0.        ,\n",
              "         0.01960784, 0.        , 0.        , 0.        , 0.01176471,\n",
              "         0.        , 0.00392157, 0.02745098, 0.        , 0.        ,\n",
              "         0.00392157, 0.01176471, 0.        , 0.        , 0.        ,\n",
              "         0.        , 0.        , 0.        ],\n",
              "        [0.        , 0.        , 0.02352941, 0.28235294, 0.86666667,\n",
              "         1.        , 1.        , 0.88235294, 0.4       , 0.        ,\n",
              "         0.00784314, 0.00392157, 0.        , 0.03137255, 0.        ,\n",
              "         0.00784314, 0.        , 0.        , 0.        , 0.        ,\n",
              "         0.00392157, 0.00784314, 0.        , 0.01568627, 0.        ,\n",
              "         0.        , 0.        , 0.        ],\n",
              "        [0.02352941, 0.        , 0.        , 0.87843137, 0.99215686,\n",
              "         0.99215686, 1.        , 0.98823529, 1.        , 0.99215686,\n",
              "         0.99215686, 0.99607843, 1.        , 0.96862745, 1.        ,\n",
              "         0.99215686, 1.        , 0.85882353, 0.38823529, 0.        ,\n",
              "         0.        , 0.01960784, 0.        , 0.        , 0.        ,\n",
              "         0.        , 0.        , 0.        ],\n",
              "        [0.        , 0.01176471, 0.00784314, 0.47058824, 1.        ,\n",
              "         1.        , 1.        , 1.        , 0.99215686, 1.        ,\n",
              "         1.        , 0.98039216, 0.99607843, 0.99607843, 1.        ,\n",
              "         0.98039216, 0.98039216, 1.        , 0.98039216, 0.8627451 ,\n",
              "         0.4745098 , 0.        , 0.00392157, 0.        , 0.        ,\n",
              "         0.        , 0.        , 0.        ],\n",
              "        [0.        , 0.00392157, 0.00392157, 0.        , 0.01960784,\n",
              "         0.        , 0.01960784, 0.63529412, 0.99607843, 1.        ,\n",
              "         0.99607843, 0.99215686, 1.        , 0.99215686, 0.99607843,\n",
              "         1.        , 0.99607843, 0.99215686, 1.        , 1.        ,\n",
              "         1.        , 0.        , 0.        , 0.02745098, 0.        ,\n",
              "         0.        , 0.        , 0.        ],\n",
              "        [0.        , 0.        , 0.        , 0.01568627, 0.        ,\n",
              "         0.01176471, 0.01960784, 0.        , 0.01176471, 0.        ,\n",
              "         0.01176471, 0.01568627, 0.        , 0.00784314, 0.        ,\n",
              "         0.00784314, 0.47843137, 1.        , 0.99607843, 0.99215686,\n",
              "         0.69803922, 0.        , 0.03137255, 0.        , 0.        ,\n",
              "         0.        , 0.        , 0.        ],\n",
              "        [0.        , 0.00784314, 0.        , 0.00392157, 0.01568627,\n",
              "         0.        , 0.00392157, 0.00392157, 0.        , 0.01568627,\n",
              "         0.00784314, 0.        , 0.01960784, 0.00784314, 0.        ,\n",
              "         0.        , 0.00784314, 0.98823529, 0.98431373, 0.99607843,\n",
              "         0.03529412, 0.01568627, 0.        , 0.        , 0.        ,\n",
              "         0.        , 0.        , 0.        ],\n",
              "        [0.01568627, 0.        , 0.00392157, 0.        , 0.        ,\n",
              "         0.02745098, 0.01568627, 0.        , 0.00392157, 0.00784314,\n",
              "         0.        , 0.00784314, 0.        , 0.00784314, 0.01176471,\n",
              "         0.00784314, 0.49803922, 1.        , 1.        , 0.98823529,\n",
              "         0.00784314, 0.        , 0.01568627, 0.00392157, 0.        ,\n",
              "         0.        , 0.        , 0.        ],\n",
              "        [0.        , 0.        , 0.02352941, 0.01960784, 0.00784314,\n",
              "         0.        , 0.00784314, 0.        , 0.01176471, 0.        ,\n",
              "         0.02352941, 0.00784314, 0.        , 0.00392157, 0.        ,\n",
              "         0.40392157, 0.99607843, 0.99607843, 0.98823529, 0.63921569,\n",
              "         0.01568627, 0.        , 0.        , 0.01568627, 0.        ,\n",
              "         0.        , 0.        , 0.        ],\n",
              "        [0.01568627, 0.        , 0.00784314, 0.        , 0.        ,\n",
              "         0.00784314, 0.00392157, 0.00784314, 0.00784314, 0.00392157,\n",
              "         0.        , 0.00392157, 0.01568627, 0.        , 0.01176471,\n",
              "         0.91764706, 1.        , 1.        , 0.72156863, 0.03921569,\n",
              "         0.00392157, 0.01176471, 0.        , 0.        , 0.        ,\n",
              "         0.        , 0.        , 0.        ],\n",
              "        [0.00392157, 0.00784314, 0.        , 0.01568627, 0.        ,\n",
              "         0.00784314, 0.27058824, 0.74509804, 0.38823529, 0.01568627,\n",
              "         0.        , 0.00784314, 0.        , 0.00784314, 0.41176471,\n",
              "         0.98823529, 1.        , 0.96470588, 0.05882353, 0.01176471,\n",
              "         0.        , 0.        , 0.01568627, 0.        , 0.        ,\n",
              "         0.        , 0.        , 0.        ],\n",
              "        [0.01176471, 0.        , 0.01960784, 0.        , 0.        ,\n",
              "         0.        , 0.88627451, 0.99215686, 1.        , 0.99607843,\n",
              "         0.99607843, 1.        , 1.        , 0.99607843, 1.        ,\n",
              "         1.        , 0.99215686, 0.6627451 , 0.        , 0.        ,\n",
              "         0.00784314, 0.01176471, 0.        , 0.        , 0.        ,\n",
              "         0.        , 0.        , 0.        ],\n",
              "        [0.00784314, 0.00392157, 0.        , 0.00784314, 0.01176471,\n",
              "         0.        , 0.55294118, 1.        , 0.98039216, 1.        ,\n",
              "         1.        , 0.98431373, 0.99215686, 1.        , 0.99607843,\n",
              "         1.        , 1.        , 0.98823529, 0.8627451 , 0.38431373,\n",
              "         0.00392157, 0.        , 0.01176471, 0.00392157, 0.        ,\n",
              "         0.        , 0.        , 0.        ],\n",
              "        [0.        , 0.01176471, 0.        , 0.00392157, 0.        ,\n",
              "         0.02352941, 0.02352941, 0.63137255, 1.        , 0.99215686,\n",
              "         0.99215686, 1.        , 1.        , 1.        , 0.99215686,\n",
              "         0.99607843, 0.99215686, 1.        , 1.        , 0.96862745,\n",
              "         0.        , 0.01568627, 0.00392157, 0.        , 0.        ,\n",
              "         0.        , 0.        , 0.        ],\n",
              "        [0.        , 0.        , 0.        , 0.        , 0.        ,\n",
              "         0.        , 0.        , 0.        , 0.00784314, 0.        ,\n",
              "         0.01176471, 0.01568627, 0.        , 0.90196078, 0.98823529,\n",
              "         1.        , 0.98039216, 1.        , 0.98431373, 0.59215686,\n",
              "         0.00392157, 0.        , 0.01568627, 0.00392157, 0.        ,\n",
              "         0.        , 0.        , 0.        ],\n",
              "        [0.        , 0.        , 0.        , 0.        , 0.        ,\n",
              "         0.        , 0.        , 0.        , 0.        , 0.00784314,\n",
              "         0.        , 0.03137255, 0.        , 1.        , 0.99607843,\n",
              "         0.99215686, 0.03529412, 0.        , 0.        , 0.00784314,\n",
              "         0.        , 0.02352941, 0.        , 0.00392157, 0.        ,\n",
              "         0.        , 0.        , 0.        ],\n",
              "        [0.        , 0.        , 0.        , 0.        , 0.        ,\n",
              "         0.        , 0.        , 0.        , 0.01568627, 0.        ,\n",
              "         0.00392157, 0.        , 0.41960784, 0.98431373, 0.98823529,\n",
              "         1.        , 0.        , 0.00392157, 0.00392157, 0.        ,\n",
              "         0.01960784, 0.        , 0.        , 0.        , 0.        ,\n",
              "         0.        , 0.        , 0.        ],\n",
              "        [0.        , 0.        , 0.        , 0.        , 0.        ,\n",
              "         0.        , 0.        , 0.        , 0.        , 0.01176471,\n",
              "         0.00392157, 0.02745098, 0.90588235, 0.98823529, 1.        ,\n",
              "         0.6627451 , 0.01568627, 0.00392157, 0.        , 0.01568627,\n",
              "         0.        , 0.00392157, 0.03137255, 0.        , 0.        ,\n",
              "         0.        , 0.        , 0.        ],\n",
              "        [0.        , 0.        , 0.        , 0.        , 0.        ,\n",
              "         0.        , 0.        , 0.        , 0.00392157, 0.        ,\n",
              "         0.00784314, 0.39215686, 0.98039216, 1.        , 0.98823529,\n",
              "         0.03921569, 0.        , 0.        , 0.        , 0.01568627,\n",
              "         0.        , 0.00392157, 0.        , 0.00392157, 0.        ,\n",
              "         0.        , 0.        , 0.        ],\n",
              "        [0.        , 0.        , 0.        , 0.        , 0.        ,\n",
              "         0.        , 0.        , 0.        , 0.        , 0.        ,\n",
              "         0.        , 0.91764706, 0.98823529, 0.99607843, 0.65882353,\n",
              "         0.        , 0.00392157, 0.00392157, 0.01176471, 0.        ,\n",
              "         0.        , 0.02352941, 0.01176471, 0.01568627, 0.        ,\n",
              "         0.        , 0.        , 0.        ],\n",
              "        [0.        , 0.        , 0.        , 0.        , 0.        ,\n",
              "         0.        , 0.        , 0.        , 0.        , 0.00784314,\n",
              "         0.        , 1.        , 1.        , 0.98039216, 0.05098039,\n",
              "         0.        , 0.02745098, 0.        , 0.00392157, 0.01568627,\n",
              "         0.00784314, 0.        , 0.        , 0.        , 0.        ,\n",
              "         0.        , 0.        , 0.        ],\n",
              "        [0.        , 0.        , 0.        , 0.        , 0.        ,\n",
              "         0.        , 0.        , 0.        , 0.        , 0.00392157,\n",
              "         0.41960784, 0.99215686, 0.99607843, 1.        , 0.        ,\n",
              "         0.00784314, 0.        , 0.00392157, 0.        , 0.01568627,\n",
              "         0.        , 0.        , 0.00784314, 0.00392157, 0.        ,\n",
              "         0.        , 0.        , 0.        ],\n",
              "        [0.        , 0.        , 0.        , 0.        , 0.        ,\n",
              "         0.        , 0.        , 0.        , 0.01176471, 0.        ,\n",
              "         0.89803922, 1.        , 1.        , 0.65490196, 0.00784314,\n",
              "         0.00392157, 0.        , 0.        , 0.        , 0.        ,\n",
              "         0.        , 0.        , 0.        , 0.        , 0.        ,\n",
              "         0.        , 0.        , 0.        ],\n",
              "        [0.        , 0.        , 0.        , 0.        , 0.        ,\n",
              "         0.        , 0.        , 0.        , 0.        , 0.28627451,\n",
              "         1.        , 1.        , 0.98823529, 0.03921569, 0.        ,\n",
              "         0.01960784, 0.        , 0.        , 0.        , 0.        ,\n",
              "         0.        , 0.        , 0.        , 0.        , 0.        ,\n",
              "         0.        , 0.        , 0.        ],\n",
              "        [0.        , 0.        , 0.        , 0.        , 0.        ,\n",
              "         0.        , 0.        , 0.        , 0.        , 0.87058824,\n",
              "         0.98039216, 0.98823529, 1.        , 0.        , 0.        ,\n",
              "         0.        , 0.        , 0.        , 0.        , 0.        ,\n",
              "         0.        , 0.        , 0.        , 0.        , 0.        ,\n",
              "         0.        , 0.        , 0.        ],\n",
              "        [0.        , 0.        , 0.        , 0.        , 0.        ,\n",
              "         0.        , 0.        , 0.        , 0.        , 0.47058824,\n",
              "         1.        , 0.98431373, 0.61176471, 0.00392157, 0.00392157,\n",
              "         0.        , 0.        , 0.        , 0.        , 0.        ,\n",
              "         0.        , 0.        , 0.        , 0.        , 0.        ,\n",
              "         0.        , 0.        , 0.        ]]])"
            ]
          },
          "metadata": {},
          "execution_count": 47
        }
      ]
    },
    {
      "cell_type": "code",
      "source": [
        "result=sn.predict(img2)"
      ],
      "metadata": {
        "id": "fRc_zXqy7y8e",
        "colab": {
          "base_uri": "https://localhost:8080/"
        },
        "outputId": "33c6da8c-34d4-4aef-f183-1f62bb88e804"
      },
      "execution_count": null,
      "outputs": [
        {
          "output_type": "stream",
          "name": "stdout",
          "text": [
            "1/1 [==============================] - 0s 168ms/step\n"
          ]
        }
      ]
    },
    {
      "cell_type": "code",
      "source": [
        "result"
      ],
      "metadata": {
        "id": "5hzClRbIvzCY",
        "colab": {
          "base_uri": "https://localhost:8080/"
        },
        "outputId": "5085a911-27d8-40be-f056-e56f63ef3e5a"
      },
      "execution_count": null,
      "outputs": [
        {
          "output_type": "execute_result",
          "data": {
            "text/plain": [
              "array([[9.4757316e-04, 3.3773317e-03, 7.4970871e-02, 2.2948052e-01,\n",
              "        1.8520621e-03, 1.5582383e-03, 1.7499220e-05, 6.4669037e-01,\n",
              "        7.2197244e-03, 3.3885829e-02]], dtype=float32)"
            ]
          },
          "metadata": {},
          "execution_count": 49
        }
      ]
    },
    {
      "cell_type": "code",
      "source": [
        "np.argmax(result, axis=-1)"
      ],
      "metadata": {
        "id": "HG9ivGPhwIlA",
        "colab": {
          "base_uri": "https://localhost:8080/"
        },
        "outputId": "179f51c7-f584-4743-f8d1-4c128ca3d248"
      },
      "execution_count": null,
      "outputs": [
        {
          "output_type": "execute_result",
          "data": {
            "text/plain": [
              "array([7])"
            ]
          },
          "metadata": {},
          "execution_count": 50
        }
      ]
    },
    {
      "cell_type": "code",
      "source": [
        "sn.summary()"
      ],
      "metadata": {
        "id": "2-0H7kR-883q",
        "colab": {
          "base_uri": "https://localhost:8080/"
        },
        "outputId": "50abfdc7-e97d-4259-e70f-d1fbb2a61b5f"
      },
      "execution_count": null,
      "outputs": [
        {
          "output_type": "stream",
          "name": "stdout",
          "text": [
            "Model: \"sequential\"\n",
            "_________________________________________________________________\n",
            " Layer (type)                Output Shape              Param #   \n",
            "=================================================================\n",
            " conv2d (Conv2D)             (None, 26, 26, 16)        160       \n",
            "                                                                 \n",
            " max_pooling2d (MaxPooling2  (None, 13, 13, 16)        0         \n",
            " D)                                                              \n",
            "                                                                 \n",
            " batch_normalization (Batch  (None, 13, 13, 16)        64        \n",
            " Normalization)                                                  \n",
            "                                                                 \n",
            " dropout (Dropout)           (None, 13, 13, 16)        0         \n",
            "                                                                 \n",
            " conv2d_1 (Conv2D)           (None, 11, 11, 16)        2320      \n",
            "                                                                 \n",
            " max_pooling2d_1 (MaxPoolin  (None, 5, 5, 16)          0         \n",
            " g2D)                                                            \n",
            "                                                                 \n",
            " batch_normalization_1 (Bat  (None, 5, 5, 16)          64        \n",
            " chNormalization)                                                \n",
            "                                                                 \n",
            " dropout_1 (Dropout)         (None, 5, 5, 16)          0         \n",
            "                                                                 \n",
            " conv2d_2 (Conv2D)           (None, 3, 3, 16)          2320      \n",
            "                                                                 \n",
            " max_pooling2d_2 (MaxPoolin  (None, 1, 1, 16)          0         \n",
            " g2D)                                                            \n",
            "                                                                 \n",
            " batch_normalization_2 (Bat  (None, 1, 1, 16)          64        \n",
            " chNormalization)                                                \n",
            "                                                                 \n",
            " dropout_2 (Dropout)         (None, 1, 1, 16)          0         \n",
            "                                                                 \n",
            " flatten (Flatten)           (None, 16)                0         \n",
            "                                                                 \n",
            " dense (Dense)               (None, 850)               14450     \n",
            "                                                                 \n",
            " dense_1 (Dense)             (None, 800)               680800    \n",
            "                                                                 \n",
            " dense_2 (Dense)             (None, 750)               600750    \n",
            "                                                                 \n",
            " dense_3 (Dense)             (None, 700)               525700    \n",
            "                                                                 \n",
            " dense_4 (Dense)             (None, 650)               455650    \n",
            "                                                                 \n",
            " dense_5 (Dense)             (None, 10)                6510      \n",
            "                                                                 \n",
            "=================================================================\n",
            "Total params: 2288852 (8.73 MB)\n",
            "Trainable params: 2288756 (8.73 MB)\n",
            "Non-trainable params: 96 (384.00 Byte)\n",
            "_________________________________________________________________\n"
          ]
        }
      ]
    },
    {
      "cell_type": "code",
      "source": [
        "import tensorflow as tf"
      ],
      "metadata": {
        "id": "Tem5j1hrWn7a"
      },
      "execution_count": null,
      "outputs": []
    },
    {
      "cell_type": "code",
      "source": [
        "img2 = tf.image.resize(img2, (28, 28))"
      ],
      "metadata": {
        "id": "MZ5JwgB8WgQn"
      },
      "execution_count": null,
      "outputs": []
    },
    {
      "cell_type": "code",
      "source": [
        "img2.shape"
      ],
      "metadata": {
        "id": "0bMZmNas-ARe",
        "colab": {
          "base_uri": "https://localhost:8080/"
        },
        "outputId": "b765c2a1-f6a7-48ff-c1ad-2c42093af6dd"
      },
      "execution_count": null,
      "outputs": [
        {
          "output_type": "execute_result",
          "data": {
            "text/plain": [
              "TensorShape([28, 28, 28])"
            ]
          },
          "metadata": {},
          "execution_count": 54
        }
      ]
    },
    {
      "cell_type": "code",
      "source": [
        "img1.shape"
      ],
      "metadata": {
        "id": "jiRAkF5W-FGT",
        "colab": {
          "base_uri": "https://localhost:8080/"
        },
        "outputId": "fc4ac45a-966a-4318-a8e3-d93e9854c93a"
      },
      "execution_count": null,
      "outputs": [
        {
          "output_type": "execute_result",
          "data": {
            "text/plain": [
              "(28, 28)"
            ]
          },
          "metadata": {},
          "execution_count": 55
        }
      ]
    },
    {
      "cell_type": "code",
      "source": [
        "img.shape"
      ],
      "metadata": {
        "id": "gFUcdYY--JI1",
        "colab": {
          "base_uri": "https://localhost:8080/"
        },
        "outputId": "4eb8f113-0514-4469-985f-1ee29e96f7dc"
      },
      "execution_count": null,
      "outputs": [
        {
          "output_type": "execute_result",
          "data": {
            "text/plain": [
              "(28, 28)"
            ]
          },
          "metadata": {},
          "execution_count": 56
        }
      ]
    },
    {
      "cell_type": "code",
      "source": [],
      "metadata": {
        "id": "FqkO1H7e-KOE"
      },
      "execution_count": null,
      "outputs": []
    },
    {
      "cell_type": "code",
      "source": [],
      "metadata": {
        "id": "YPQ4O490-PY6"
      },
      "execution_count": null,
      "outputs": []
    }
  ],
  "metadata": {
    "colab": {
      "provenance": [],
      "gpuType": "T4"
    },
    "kernelspec": {
      "display_name": "Python 3",
      "name": "python3"
    },
    "language_info": {
      "name": "python"
    },
    "accelerator": "GPU"
  },
  "nbformat": 4,
  "nbformat_minor": 0
}