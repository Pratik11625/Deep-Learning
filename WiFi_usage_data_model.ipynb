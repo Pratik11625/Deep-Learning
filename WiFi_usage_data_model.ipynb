{
 "cells": [
  {
   "cell_type": "markdown",
   "id": "82734026",
   "metadata": {},
   "source": [
    "# WiFi usage data\n",
    "Objective:\n",
    "The objective of this time series analysis is to forecast the usage of WiFi over a period of time and predict the expected increase or decrease in internet usage in the upcoming months. By analyzing historical WiFi usage data, we aim to develop a predictive model that can accurately forecast future trends in internet usage. \n",
    "\n",
    "Problem Statement:\n",
    "The problem at hand is to analyze the historical usage patterns of WiFi and predict the future demand for internet services. The dataset contains information about WiFi usage over a specific timeframe, including metrics such as data usage, number of connected devices, and peak usage hours. The goal is to leverage this data to develop a time series forecasting model that can accurately predict future WiFi usage."
   ]
  },
  {
   "cell_type": "code",
   "execution_count": 1,
   "id": "39bbc000",
   "metadata": {
    "scrolled": true
   },
   "outputs": [
    {
     "data": {
      "text/html": [
       "<div>\n",
       "<style scoped>\n",
       "    .dataframe tbody tr th:only-of-type {\n",
       "        vertical-align: middle;\n",
       "    }\n",
       "\n",
       "    .dataframe tbody tr th {\n",
       "        vertical-align: top;\n",
       "    }\n",
       "\n",
       "    .dataframe thead th {\n",
       "        text-align: right;\n",
       "    }\n",
       "</style>\n",
       "<table border=\"1\" class=\"dataframe\">\n",
       "  <thead>\n",
       "    <tr style=\"text-align: right;\">\n",
       "      <th></th>\n",
       "      <th>Download Bytes</th>\n",
       "      <th>Upload Bytes</th>\n",
       "      <th>Total</th>\n",
       "      <th>Date</th>\n",
       "    </tr>\n",
       "  </thead>\n",
       "  <tbody>\n",
       "    <tr>\n",
       "      <th>0</th>\n",
       "      <td>7.12 GB</td>\n",
       "      <td>3.32 GB</td>\n",
       "      <td>10.44 GB</td>\n",
       "      <td>30-01-2024</td>\n",
       "    </tr>\n",
       "    <tr>\n",
       "      <th>1</th>\n",
       "      <td>22.96 GB</td>\n",
       "      <td>11.45 GB</td>\n",
       "      <td>34.4 GB</td>\n",
       "      <td>29-01-2024</td>\n",
       "    </tr>\n",
       "    <tr>\n",
       "      <th>2</th>\n",
       "      <td>20.08 GB</td>\n",
       "      <td>758.73 MB</td>\n",
       "      <td>20.82 GB</td>\n",
       "      <td>28-01-2024</td>\n",
       "    </tr>\n",
       "    <tr>\n",
       "      <th>3</th>\n",
       "      <td>12.01 GB</td>\n",
       "      <td>918.13 MB</td>\n",
       "      <td>12.91 GB</td>\n",
       "      <td>27-01-2024</td>\n",
       "    </tr>\n",
       "    <tr>\n",
       "      <th>4</th>\n",
       "      <td>13.81 GB</td>\n",
       "      <td>405.41 MB</td>\n",
       "      <td>14.21 GB</td>\n",
       "      <td>26-01-2024</td>\n",
       "    </tr>\n",
       "    <tr>\n",
       "      <th>...</th>\n",
       "      <td>...</td>\n",
       "      <td>...</td>\n",
       "      <td>...</td>\n",
       "      <td>...</td>\n",
       "    </tr>\n",
       "    <tr>\n",
       "      <th>167</th>\n",
       "      <td>15.95 GB</td>\n",
       "      <td>869.01 MB</td>\n",
       "      <td>16.8 GB</td>\n",
       "      <td>07-08-2023</td>\n",
       "    </tr>\n",
       "    <tr>\n",
       "      <th>168</th>\n",
       "      <td>6.59 GB</td>\n",
       "      <td>318.56 MB</td>\n",
       "      <td>6.9 GB</td>\n",
       "      <td>06-08-2023</td>\n",
       "    </tr>\n",
       "    <tr>\n",
       "      <th>169</th>\n",
       "      <td>14.43 GB</td>\n",
       "      <td>360.17 MB</td>\n",
       "      <td>14.78 GB</td>\n",
       "      <td>05-08-2023</td>\n",
       "    </tr>\n",
       "    <tr>\n",
       "      <th>170</th>\n",
       "      <td>15.93 GB</td>\n",
       "      <td>7.18 GB</td>\n",
       "      <td>23.11 GB</td>\n",
       "      <td>04-08-2023</td>\n",
       "    </tr>\n",
       "    <tr>\n",
       "      <th>171</th>\n",
       "      <td>12.74 GB</td>\n",
       "      <td>4.04 GB</td>\n",
       "      <td>16.79 GB</td>\n",
       "      <td>03-08-2023</td>\n",
       "    </tr>\n",
       "  </tbody>\n",
       "</table>\n",
       "<p>172 rows × 4 columns</p>\n",
       "</div>"
      ],
      "text/plain": [
       "    Download Bytes Upload Bytes     Total        Date\n",
       "0          7.12 GB      3.32 GB  10.44 GB  30-01-2024\n",
       "1         22.96 GB     11.45 GB   34.4 GB  29-01-2024\n",
       "2         20.08 GB    758.73 MB  20.82 GB  28-01-2024\n",
       "3         12.01 GB    918.13 MB  12.91 GB  27-01-2024\n",
       "4         13.81 GB    405.41 MB  14.21 GB  26-01-2024\n",
       "..             ...          ...       ...         ...\n",
       "167       15.95 GB    869.01 MB   16.8 GB  07-08-2023\n",
       "168        6.59 GB    318.56 MB    6.9 GB  06-08-2023\n",
       "169       14.43 GB    360.17 MB  14.78 GB  05-08-2023\n",
       "170       15.93 GB      7.18 GB  23.11 GB  04-08-2023\n",
       "171       12.74 GB      4.04 GB  16.79 GB  03-08-2023\n",
       "\n",
       "[172 rows x 4 columns]"
      ]
     },
     "execution_count": 1,
     "metadata": {},
     "output_type": "execute_result"
    }
   ],
   "source": [
    "from warnings import filterwarnings\n",
    "filterwarnings('ignore')\n",
    "\n",
    "import os\n",
    "os.chdir('D:/py/')\n",
    "\n",
    "import pandas as pd\n",
    "df=pd.read_csv('wifi_data.csv')\n",
    "df"
   ]
  },
  {
   "cell_type": "code",
   "execution_count": 2,
   "id": "92dd2815",
   "metadata": {
    "scrolled": false
   },
   "outputs": [
    {
     "name": "stdout",
     "output_type": "stream",
     "text": [
      "<class 'pandas.core.frame.DataFrame'>\n",
      "RangeIndex: 172 entries, 0 to 171\n",
      "Data columns (total 4 columns):\n",
      " #   Column          Non-Null Count  Dtype \n",
      "---  ------          --------------  ----- \n",
      " 0   Download Bytes  172 non-null    object\n",
      " 1   Upload Bytes    172 non-null    object\n",
      " 2   Total           172 non-null    object\n",
      " 3   Date            172 non-null    object\n",
      "dtypes: object(4)\n",
      "memory usage: 5.5+ KB\n"
     ]
    }
   ],
   "source": [
    "df.info()"
   ]
  },
  {
   "cell_type": "code",
   "execution_count": null,
   "id": "195f9f13",
   "metadata": {},
   "outputs": [],
   "source": []
  },
  {
   "cell_type": "code",
   "execution_count": 3,
   "id": "b77a2c3d",
   "metadata": {},
   "outputs": [],
   "source": [
    "df['Total']=df['Total'].str.replace(' GB', '').str.replace(' MB', '').astype(float).astype(int)"
   ]
  },
  {
   "cell_type": "code",
   "execution_count": null,
   "id": "dc5652af",
   "metadata": {},
   "outputs": [],
   "source": []
  },
  {
   "cell_type": "code",
   "execution_count": 4,
   "id": "f33acb1e",
   "metadata": {},
   "outputs": [
    {
     "data": {
      "text/html": [
       "<div>\n",
       "<style scoped>\n",
       "    .dataframe tbody tr th:only-of-type {\n",
       "        vertical-align: middle;\n",
       "    }\n",
       "\n",
       "    .dataframe tbody tr th {\n",
       "        vertical-align: top;\n",
       "    }\n",
       "\n",
       "    .dataframe thead th {\n",
       "        text-align: right;\n",
       "    }\n",
       "</style>\n",
       "<table border=\"1\" class=\"dataframe\">\n",
       "  <thead>\n",
       "    <tr style=\"text-align: right;\">\n",
       "      <th></th>\n",
       "      <th>Download Bytes</th>\n",
       "      <th>Upload Bytes</th>\n",
       "      <th>Total</th>\n",
       "      <th>Date</th>\n",
       "    </tr>\n",
       "    <tr>\n",
       "      <th>Date</th>\n",
       "      <th></th>\n",
       "      <th></th>\n",
       "      <th></th>\n",
       "      <th></th>\n",
       "    </tr>\n",
       "  </thead>\n",
       "  <tbody>\n",
       "    <tr>\n",
       "      <th>2024-01-30</th>\n",
       "      <td>7.12 GB</td>\n",
       "      <td>3.32 GB</td>\n",
       "      <td>10</td>\n",
       "      <td>2024-01-30</td>\n",
       "    </tr>\n",
       "    <tr>\n",
       "      <th>2024-01-29</th>\n",
       "      <td>22.96 GB</td>\n",
       "      <td>11.45 GB</td>\n",
       "      <td>34</td>\n",
       "      <td>2024-01-29</td>\n",
       "    </tr>\n",
       "  </tbody>\n",
       "</table>\n",
       "</div>"
      ],
      "text/plain": [
       "           Download Bytes Upload Bytes  Total       Date\n",
       "Date                                                    \n",
       "2024-01-30        7.12 GB      3.32 GB     10 2024-01-30\n",
       "2024-01-29       22.96 GB     11.45 GB     34 2024-01-29"
      ]
     },
     "execution_count": 4,
     "metadata": {},
     "output_type": "execute_result"
    }
   ],
   "source": [
    "df['Date']=pd.to_datetime(df['Date'])\n",
    "df.index = df['Date']\n",
    "df.head(2)"
   ]
  },
  {
   "cell_type": "code",
   "execution_count": 5,
   "id": "a6056a51",
   "metadata": {},
   "outputs": [
    {
     "data": {
      "text/html": [
       "<div>\n",
       "<style scoped>\n",
       "    .dataframe tbody tr th:only-of-type {\n",
       "        vertical-align: middle;\n",
       "    }\n",
       "\n",
       "    .dataframe tbody tr th {\n",
       "        vertical-align: top;\n",
       "    }\n",
       "\n",
       "    .dataframe thead th {\n",
       "        text-align: right;\n",
       "    }\n",
       "</style>\n",
       "<table border=\"1\" class=\"dataframe\">\n",
       "  <thead>\n",
       "    <tr style=\"text-align: right;\">\n",
       "      <th></th>\n",
       "      <th>Total</th>\n",
       "    </tr>\n",
       "    <tr>\n",
       "      <th>Date</th>\n",
       "      <th></th>\n",
       "    </tr>\n",
       "  </thead>\n",
       "  <tbody>\n",
       "    <tr>\n",
       "      <th>2024-01-30</th>\n",
       "      <td>10</td>\n",
       "    </tr>\n",
       "    <tr>\n",
       "      <th>2024-01-29</th>\n",
       "      <td>34</td>\n",
       "    </tr>\n",
       "  </tbody>\n",
       "</table>\n",
       "</div>"
      ],
      "text/plain": [
       "            Total\n",
       "Date             \n",
       "2024-01-30     10\n",
       "2024-01-29     34"
      ]
     },
     "execution_count": 5,
     "metadata": {},
     "output_type": "execute_result"
    }
   ],
   "source": [
    "df.drop(['Date','Download Bytes','Upload Bytes'],axis=1,inplace=True)\n",
    "df.head(2)"
   ]
  },
  {
   "cell_type": "code",
   "execution_count": 6,
   "id": "13be8e64",
   "metadata": {},
   "outputs": [
    {
     "data": {
      "text/html": [
       "<div>\n",
       "<style scoped>\n",
       "    .dataframe tbody tr th:only-of-type {\n",
       "        vertical-align: middle;\n",
       "    }\n",
       "\n",
       "    .dataframe tbody tr th {\n",
       "        vertical-align: top;\n",
       "    }\n",
       "\n",
       "    .dataframe thead th {\n",
       "        text-align: right;\n",
       "    }\n",
       "</style>\n",
       "<table border=\"1\" class=\"dataframe\">\n",
       "  <thead>\n",
       "    <tr style=\"text-align: right;\">\n",
       "      <th></th>\n",
       "      <th>Total_GB_MB</th>\n",
       "    </tr>\n",
       "    <tr>\n",
       "      <th>Date</th>\n",
       "      <th></th>\n",
       "    </tr>\n",
       "  </thead>\n",
       "  <tbody>\n",
       "    <tr>\n",
       "      <th>2024-01-30</th>\n",
       "      <td>10</td>\n",
       "    </tr>\n",
       "    <tr>\n",
       "      <th>2024-01-29</th>\n",
       "      <td>34</td>\n",
       "    </tr>\n",
       "  </tbody>\n",
       "</table>\n",
       "</div>"
      ],
      "text/plain": [
       "            Total_GB_MB\n",
       "Date                   \n",
       "2024-01-30           10\n",
       "2024-01-29           34"
      ]
     },
     "execution_count": 6,
     "metadata": {},
     "output_type": "execute_result"
    }
   ],
   "source": [
    "df.columns=['Total_GB_MB']\n",
    "df.head(2)"
   ]
  },
  {
   "cell_type": "code",
   "execution_count": 7,
   "id": "6b642708",
   "metadata": {},
   "outputs": [],
   "source": [
    "# Decompose"
   ]
  },
  {
   "cell_type": "code",
   "execution_count": 8,
   "id": "2141cc2c",
   "metadata": {},
   "outputs": [],
   "source": [
    "import matplotlib.pyplot as plt\n",
    "from statsmodels.tsa.seasonal import seasonal_decompose"
   ]
  },
  {
   "cell_type": "markdown",
   "id": "b5e0d64b",
   "metadata": {},
   "source": [
    "sd=seasonal_decompose(df)"
   ]
  },
  {
   "cell_type": "markdown",
   "id": "a37199be",
   "metadata": {},
   "source": [
    "sd.plot()"
   ]
  },
  {
   "cell_type": "code",
   "execution_count": 10,
   "id": "e0e6954b",
   "metadata": {},
   "outputs": [
    {
     "data": {
      "image/png": "[encoded data removed]",
      "text/plain": [
       "<Figure size 864x576 with 1 Axes>"
      ]
     },
     "metadata": {
      "needs_background": "light"
     },
     "output_type": "display_data"
    }
   ],
   "source": [
    "plt.figure(figsize=(12,8))\n",
    "plt.plot(df['Total_GB_MB'])\n",
    "plt.show()"
   ]
  },
  {
   "cell_type": "code",
   "execution_count": null,
   "id": "dec9475a",
   "metadata": {},
   "outputs": [],
   "source": []
  },
  {
   "cell_type": "code",
   "execution_count": 11,
   "id": "143abd80",
   "metadata": {},
   "outputs": [],
   "source": [
    "# Forecasting"
   ]
  },
  {
   "cell_type": "code",
   "execution_count": 18,
   "id": "406dfd23",
   "metadata": {},
   "outputs": [],
   "source": [
    "from pmdarima.arima import auto_arima\n",
    "\n",
    "model = auto_arima(df['Total_GB_MB'],seasonal=True, suppress_warnings=True, m=4 )"
   ]
  },
  {
   "cell_type": "code",
   "execution_count": 19,
   "id": "0db53258",
   "metadata": {},
   "outputs": [
    {
     "name": "stderr",
     "output_type": "stream",
     "text": [
      "C:\\Users\\Ankita\\AppData\\Roaming\\Python\\Python38\\site-packages\\statsmodels\\tsa\\base\\tsa_model.py:836: ValueWarning: No supported index is available. Prediction results will be given with an integer index beginning at `start`.\n",
      "  return get_prediction_index(\n"
     ]
    }
   ],
   "source": [
    "Forecast, cnf = model.predict(n_periods=12, return_conf_int=True)\n",
    "Forecast = pd.Series(Forecast)"
   ]
  },
  {
   "cell_type": "code",
   "execution_count": 20,
   "id": "6566a8e0",
   "metadata": {},
   "outputs": [],
   "source": [
    "lower= cnf[ : , 0]\n",
    "lower=pd.Series(lower)\n",
    "lower.index=Forecast.index"
   ]
  },
  {
   "cell_type": "code",
   "execution_count": 21,
   "id": "2fd1a0af",
   "metadata": {},
   "outputs": [],
   "source": [
    "upper= cnf[ : , 1]\n",
    "upper=pd.Series(upper)\n",
    "upper.index=Forecast.index"
   ]
  },
  {
   "cell_type": "code",
   "execution_count": null,
   "id": "ac29665a",
   "metadata": {},
   "outputs": [],
   "source": []
  },
  {
   "cell_type": "code",
   "execution_count": 22,
   "id": "2bda107d",
   "metadata": {},
   "outputs": [
    {
     "data": {
      "text/plain": [
       "[<matplotlib.lines.Line2D at 0x1e81d39df40>]"
      ]
     },
     "execution_count": 22,
     "metadata": {},
     "output_type": "execute_result"
    },
    {
     "data": {
      "image/png": "[encoded data removed]",
      "text/plain": [
       "<Figure size 864x576 with 1 Axes>"
      ]
     },
     "metadata": {
      "needs_background": "light"
     },
     "output_type": "display_data"
    }
   ],
   "source": [
    "plt.figure(figsize=(12,8))\n",
    "plt.plot(df)\n",
    "plt.plot(Forecast)\n",
    "plt.plot(lower)\n",
    "plt.plot(upper)"
   ]
  },
  {
   "cell_type": "code",
   "execution_count": 17,
   "id": "29f2dabd",
   "metadata": {},
   "outputs": [
    {
     "data": {
      "text/plain": [
       "[<matplotlib.lines.Line2D at 0x1e818ec3340>]"
      ]
     },
     "execution_count": 17,
     "metadata": {},
     "output_type": "execute_result"
    },
    {
     "data": {
      "image/png": "[encoded data removed]",
      "text/plain": [
       "<Figure size 432x288 with 1 Axes>"
      ]
     },
     "metadata": {
      "needs_background": "light"
     },
     "output_type": "display_data"
    }
   ],
   "source": [
    "plt.plot(Forecast)\n",
    "plt.plot(lower)\n",
    "plt.plot(upper)"
   ]
  },
  {
   "cell_type": "code",
   "execution_count": null,
   "id": "aafb840a",
   "metadata": {},
   "outputs": [],
   "source": []
  }
 ],
 "metadata": {
  "kernelspec": {
   "display_name": "Python 3",
   "language": "python",
   "name": "python3"
  },
  "language_info": {
   "codemirror_mode": {
    "name": "ipython",
    "version": 3
   },
   "file_extension": ".py",
   "mimetype": "text/x-python",
   "name": "python",
   "nbconvert_exporter": "python",
   "pygments_lexer": "ipython3",
   "version": "3.8.8"
  }
 },
 "nbformat": 4,
 "nbformat_minor": 5
}
